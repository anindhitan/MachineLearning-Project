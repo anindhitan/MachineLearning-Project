{
  "cells": [
    {
      "cell_type": "markdown",
      "source": [
        "Nama : Anindhita Nisitasari"
      ],
      "metadata": {
        "id": "pmgi8y5Ad756"
      }
    },
    {
      "cell_type": "markdown",
      "source": [
        "# Intro and Importing Dataset"
      ],
      "metadata": {
        "id": "TK4647_guc6p"
      }
    },
    {
      "cell_type": "code",
      "execution_count": 5,
      "metadata": {
        "id": "VGDjuURO4fbd"
      },
      "outputs": [],
      "source": [
        "from google.colab import files\n",
        "import io\n",
        "\n",
        "# dataframe\n",
        "import pandas as pd\n",
        "import re\n",
        "\n",
        "\n",
        "# split data\n",
        "from sklearn.model_selection import train_test_split\n",
        "\n",
        "# preprocessing dan layer\n",
        "import tensorflow as tf\n",
        "from tensorflow.keras.preprocessing.text import Tokenizer\n",
        "from tensorflow.keras.preprocessing.sequence import pad_sequences\n",
        "from tensorflow.keras.layers import LSTM,Dense,Embedding,Dropout\n",
        "from tensorflow.keras.models import Sequential\n",
        "from tensorflow.keras.optimizers import Adam\n",
        "\n",
        "# visualisasi plot\n",
        "import matplotlib.pyplot as plt"
      ]
    },
    {
      "cell_type": "code",
      "source": [
        "! chmod 600 /content/kaggle.json"
      ],
      "metadata": {
        "id": "8xsU9e_FheEz"
      },
      "execution_count": 8,
      "outputs": []
    },
    {
      "cell_type": "code",
      "source": [
        "! KAGGLE_CONFIG_DIR=/content/ kaggle datasets download -d hgultekin/bbcnewsarchive"
      ],
      "metadata": {
        "colab": {
          "base_uri": "https://localhost:8080/"
        },
        "id": "bLNzursfjAiq",
        "outputId": "1df4cda3-82ff-425f-b3be-369a2bb79f98"
      },
      "execution_count": 9,
      "outputs": [
        {
          "output_type": "stream",
          "name": "stdout",
          "text": [
            "Downloading bbcnewsarchive.zip to /content\n",
            "\r  0% 0.00/1.81M [00:00<?, ?B/s]\n",
            "\r100% 1.81M/1.81M [00:00<00:00, 86.8MB/s]\n"
          ]
        }
      ]
    },
    {
      "cell_type": "code",
      "source": [
        "import zipfile\n",
        "zip_file = zipfile.ZipFile('/content/bbcnewsarchive.zip', 'r')\n",
        "zip_file.extractall('/tmp/')"
      ],
      "metadata": {
        "id": "-jVNIXYGjmlZ"
      },
      "execution_count": 10,
      "outputs": []
    },
    {
      "cell_type": "code",
      "source": [
        "df = pd.read_csv(\"/tmp/bbc-news-data.csv\", sep='\\t')\n",
        "df.head()"
      ],
      "metadata": {
        "colab": {
          "base_uri": "https://localhost:8080/",
          "height": 206
        },
        "id": "cQVQ_Be2kSOJ",
        "outputId": "c2b16d1b-af02-4489-8ea8-48d9656c223e"
      },
      "execution_count": 23,
      "outputs": [
        {
          "output_type": "execute_result",
          "data": {
            "text/plain": [
              "   category filename                              title  \\\n",
              "0  business  001.txt  Ad sales boost Time Warner profit   \n",
              "1  business  002.txt   Dollar gains on Greenspan speech   \n",
              "2  business  003.txt  Yukos unit buyer faces loan claim   \n",
              "3  business  004.txt  High fuel prices hit BA's profits   \n",
              "4  business  005.txt  Pernod takeover talk lifts Domecq   \n",
              "\n",
              "                                             content  \n",
              "0   Quarterly profits at US media giant TimeWarne...  \n",
              "1   The dollar has hit its highest level against ...  \n",
              "2   The owners of embattled Russian oil giant Yuk...  \n",
              "3   British Airways has blamed high fuel prices f...  \n",
              "4   Shares in UK drinks and food firm Allied Dome...  "
            ],
            "text/html": [
              "\n",
              "  <div id=\"df-3ceddcb2-d753-4f17-a47b-f2af4d6074f7\">\n",
              "    <div class=\"colab-df-container\">\n",
              "      <div>\n",
              "<style scoped>\n",
              "    .dataframe tbody tr th:only-of-type {\n",
              "        vertical-align: middle;\n",
              "    }\n",
              "\n",
              "    .dataframe tbody tr th {\n",
              "        vertical-align: top;\n",
              "    }\n",
              "\n",
              "    .dataframe thead th {\n",
              "        text-align: right;\n",
              "    }\n",
              "</style>\n",
              "<table border=\"1\" class=\"dataframe\">\n",
              "  <thead>\n",
              "    <tr style=\"text-align: right;\">\n",
              "      <th></th>\n",
              "      <th>category</th>\n",
              "      <th>filename</th>\n",
              "      <th>title</th>\n",
              "      <th>content</th>\n",
              "    </tr>\n",
              "  </thead>\n",
              "  <tbody>\n",
              "    <tr>\n",
              "      <th>0</th>\n",
              "      <td>business</td>\n",
              "      <td>001.txt</td>\n",
              "      <td>Ad sales boost Time Warner profit</td>\n",
              "      <td>Quarterly profits at US media giant TimeWarne...</td>\n",
              "    </tr>\n",
              "    <tr>\n",
              "      <th>1</th>\n",
              "      <td>business</td>\n",
              "      <td>002.txt</td>\n",
              "      <td>Dollar gains on Greenspan speech</td>\n",
              "      <td>The dollar has hit its highest level against ...</td>\n",
              "    </tr>\n",
              "    <tr>\n",
              "      <th>2</th>\n",
              "      <td>business</td>\n",
              "      <td>003.txt</td>\n",
              "      <td>Yukos unit buyer faces loan claim</td>\n",
              "      <td>The owners of embattled Russian oil giant Yuk...</td>\n",
              "    </tr>\n",
              "    <tr>\n",
              "      <th>3</th>\n",
              "      <td>business</td>\n",
              "      <td>004.txt</td>\n",
              "      <td>High fuel prices hit BA's profits</td>\n",
              "      <td>British Airways has blamed high fuel prices f...</td>\n",
              "    </tr>\n",
              "    <tr>\n",
              "      <th>4</th>\n",
              "      <td>business</td>\n",
              "      <td>005.txt</td>\n",
              "      <td>Pernod takeover talk lifts Domecq</td>\n",
              "      <td>Shares in UK drinks and food firm Allied Dome...</td>\n",
              "    </tr>\n",
              "  </tbody>\n",
              "</table>\n",
              "</div>\n",
              "      <button class=\"colab-df-convert\" onclick=\"convertToInteractive('df-3ceddcb2-d753-4f17-a47b-f2af4d6074f7')\"\n",
              "              title=\"Convert this dataframe to an interactive table.\"\n",
              "              style=\"display:none;\">\n",
              "        \n",
              "  <svg xmlns=\"http://www.w3.org/2000/svg\" height=\"24px\"viewBox=\"0 0 24 24\"\n",
              "       width=\"24px\">\n",
              "    <path d=\"M0 0h24v24H0V0z\" fill=\"none\"/>\n",
              "    <path d=\"M18.56 5.44l.94 2.06.94-2.06 2.06-.94-2.06-.94-.94-2.06-.94 2.06-2.06.94zm-11 1L8.5 8.5l.94-2.06 2.06-.94-2.06-.94L8.5 2.5l-.94 2.06-2.06.94zm10 10l.94 2.06.94-2.06 2.06-.94-2.06-.94-.94-2.06-.94 2.06-2.06.94z\"/><path d=\"M17.41 7.96l-1.37-1.37c-.4-.4-.92-.59-1.43-.59-.52 0-1.04.2-1.43.59L10.3 9.45l-7.72 7.72c-.78.78-.78 2.05 0 2.83L4 21.41c.39.39.9.59 1.41.59.51 0 1.02-.2 1.41-.59l7.78-7.78 2.81-2.81c.8-.78.8-2.07 0-2.86zM5.41 20L4 18.59l7.72-7.72 1.47 1.35L5.41 20z\"/>\n",
              "  </svg>\n",
              "      </button>\n",
              "      \n",
              "  <style>\n",
              "    .colab-df-container {\n",
              "      display:flex;\n",
              "      flex-wrap:wrap;\n",
              "      gap: 12px;\n",
              "    }\n",
              "\n",
              "    .colab-df-convert {\n",
              "      background-color: #E8F0FE;\n",
              "      border: none;\n",
              "      border-radius: 50%;\n",
              "      cursor: pointer;\n",
              "      display: none;\n",
              "      fill: #1967D2;\n",
              "      height: 32px;\n",
              "      padding: 0 0 0 0;\n",
              "      width: 32px;\n",
              "    }\n",
              "\n",
              "    .colab-df-convert:hover {\n",
              "      background-color: #E2EBFA;\n",
              "      box-shadow: 0px 1px 2px rgba(60, 64, 67, 0.3), 0px 1px 3px 1px rgba(60, 64, 67, 0.15);\n",
              "      fill: #174EA6;\n",
              "    }\n",
              "\n",
              "    [theme=dark] .colab-df-convert {\n",
              "      background-color: #3B4455;\n",
              "      fill: #D2E3FC;\n",
              "    }\n",
              "\n",
              "    [theme=dark] .colab-df-convert:hover {\n",
              "      background-color: #434B5C;\n",
              "      box-shadow: 0px 1px 3px 1px rgba(0, 0, 0, 0.15);\n",
              "      filter: drop-shadow(0px 1px 2px rgba(0, 0, 0, 0.3));\n",
              "      fill: #FFFFFF;\n",
              "    }\n",
              "  </style>\n",
              "\n",
              "      <script>\n",
              "        const buttonEl =\n",
              "          document.querySelector('#df-3ceddcb2-d753-4f17-a47b-f2af4d6074f7 button.colab-df-convert');\n",
              "        buttonEl.style.display =\n",
              "          google.colab.kernel.accessAllowed ? 'block' : 'none';\n",
              "\n",
              "        async function convertToInteractive(key) {\n",
              "          const element = document.querySelector('#df-3ceddcb2-d753-4f17-a47b-f2af4d6074f7');\n",
              "          const dataTable =\n",
              "            await google.colab.kernel.invokeFunction('convertToInteractive',\n",
              "                                                     [key], {});\n",
              "          if (!dataTable) return;\n",
              "\n",
              "          const docLinkHtml = 'Like what you see? Visit the ' +\n",
              "            '<a target=\"_blank\" href=https://colab.research.google.com/notebooks/data_table.ipynb>data table notebook</a>'\n",
              "            + ' to learn more about interactive tables.';\n",
              "          element.innerHTML = '';\n",
              "          dataTable['output_type'] = 'display_data';\n",
              "          await google.colab.output.renderOutput(dataTable, element);\n",
              "          const docLink = document.createElement('div');\n",
              "          docLink.innerHTML = docLinkHtml;\n",
              "          element.appendChild(docLink);\n",
              "        }\n",
              "      </script>\n",
              "    </div>\n",
              "  </div>\n",
              "  "
            ]
          },
          "metadata": {},
          "execution_count": 23
        }
      ]
    },
    {
      "cell_type": "code",
      "source": [
        "# total data\n",
        "df.shape"
      ],
      "metadata": {
        "colab": {
          "base_uri": "https://localhost:8080/"
        },
        "id": "Hu0FmDh_k4GN",
        "outputId": "e64f127f-ed4f-4fe5-c218-f58f1f10e259"
      },
      "execution_count": 24,
      "outputs": [
        {
          "output_type": "execute_result",
          "data": {
            "text/plain": [
              "(2225, 4)"
            ]
          },
          "metadata": {},
          "execution_count": 24
        }
      ]
    },
    {
      "cell_type": "code",
      "source": [
        "# Mengecek apakah ada nilai Null\n",
        "df.isnull().sum()"
      ],
      "metadata": {
        "colab": {
          "base_uri": "https://localhost:8080/"
        },
        "id": "nmsMm5LTn5SR",
        "outputId": "3a2d1dc3-8274-4504-e905-3be0fff11c98"
      },
      "execution_count": 25,
      "outputs": [
        {
          "output_type": "execute_result",
          "data": {
            "text/plain": [
              "category    0\n",
              "filename    0\n",
              "title       0\n",
              "content     0\n",
              "dtype: int64"
            ]
          },
          "metadata": {},
          "execution_count": 25
        }
      ]
    },
    {
      "cell_type": "code",
      "source": [
        "# cek memory usage\n",
        "print(df.info())"
      ],
      "metadata": {
        "colab": {
          "base_uri": "https://localhost:8080/"
        },
        "id": "Oczp5d3OopxL",
        "outputId": "12557703-f101-4847-c74c-3ee5fec1ebef"
      },
      "execution_count": 26,
      "outputs": [
        {
          "output_type": "stream",
          "name": "stdout",
          "text": [
            "<class 'pandas.core.frame.DataFrame'>\n",
            "RangeIndex: 2225 entries, 0 to 2224\n",
            "Data columns (total 4 columns):\n",
            " #   Column    Non-Null Count  Dtype \n",
            "---  ------    --------------  ----- \n",
            " 0   category  2225 non-null   object\n",
            " 1   filename  2225 non-null   object\n",
            " 2   title     2225 non-null   object\n",
            " 3   content   2225 non-null   object\n",
            "dtypes: object(4)\n",
            "memory usage: 69.7+ KB\n",
            "None\n"
          ]
        }
      ]
    },
    {
      "cell_type": "code",
      "source": [
        "# Kategori\n",
        "df.category.value_counts()"
      ],
      "metadata": {
        "colab": {
          "base_uri": "https://localhost:8080/"
        },
        "id": "dTdX9g7ipBv5",
        "outputId": "91af9bc5-f6a7-44d5-face-07d17ac0abd6"
      },
      "execution_count": 27,
      "outputs": [
        {
          "output_type": "execute_result",
          "data": {
            "text/plain": [
              "sport            511\n",
              "business         510\n",
              "politics         417\n",
              "tech             401\n",
              "entertainment    386\n",
              "Name: category, dtype: int64"
            ]
          },
          "metadata": {},
          "execution_count": 27
        }
      ]
    },
    {
      "cell_type": "code",
      "source": [
        "# Menghapus kolom yang tidak digunakan\n",
        "df = df.drop(columns=['filename'])\n",
        "df"
      ],
      "metadata": {
        "colab": {
          "base_uri": "https://localhost:8080/",
          "height": 424
        },
        "id": "3aLhrMsZq8wN",
        "outputId": "e65abe6e-0434-4fca-8274-2579b1416a9a"
      },
      "execution_count": 28,
      "outputs": [
        {
          "output_type": "execute_result",
          "data": {
            "text/plain": [
              "      category                              title  \\\n",
              "0     business  Ad sales boost Time Warner profit   \n",
              "1     business   Dollar gains on Greenspan speech   \n",
              "2     business  Yukos unit buyer faces loan claim   \n",
              "3     business  High fuel prices hit BA's profits   \n",
              "4     business  Pernod takeover talk lifts Domecq   \n",
              "...        ...                                ...   \n",
              "2220      tech   BT program to beat dialler scams   \n",
              "2221      tech    Spam e-mails tempt net shoppers   \n",
              "2222      tech            Be careful how you code   \n",
              "2223      tech    US cyber security chief resigns   \n",
              "2224      tech   Losing yourself in online gaming   \n",
              "\n",
              "                                                content  \n",
              "0      Quarterly profits at US media giant TimeWarne...  \n",
              "1      The dollar has hit its highest level against ...  \n",
              "2      The owners of embattled Russian oil giant Yuk...  \n",
              "3      British Airways has blamed high fuel prices f...  \n",
              "4      Shares in UK drinks and food firm Allied Dome...  \n",
              "...                                                 ...  \n",
              "2220   BT is introducing two initiatives to help bea...  \n",
              "2221   Computer users across the world continue to i...  \n",
              "2222   A new European directive could put software w...  \n",
              "2223   The man making sure US computer networks are ...  \n",
              "2224   Online role playing games are time-consuming,...  \n",
              "\n",
              "[2225 rows x 3 columns]"
            ],
            "text/html": [
              "\n",
              "  <div id=\"df-a05c8c3e-491b-4f17-a19e-4b9d7521bed3\">\n",
              "    <div class=\"colab-df-container\">\n",
              "      <div>\n",
              "<style scoped>\n",
              "    .dataframe tbody tr th:only-of-type {\n",
              "        vertical-align: middle;\n",
              "    }\n",
              "\n",
              "    .dataframe tbody tr th {\n",
              "        vertical-align: top;\n",
              "    }\n",
              "\n",
              "    .dataframe thead th {\n",
              "        text-align: right;\n",
              "    }\n",
              "</style>\n",
              "<table border=\"1\" class=\"dataframe\">\n",
              "  <thead>\n",
              "    <tr style=\"text-align: right;\">\n",
              "      <th></th>\n",
              "      <th>category</th>\n",
              "      <th>title</th>\n",
              "      <th>content</th>\n",
              "    </tr>\n",
              "  </thead>\n",
              "  <tbody>\n",
              "    <tr>\n",
              "      <th>0</th>\n",
              "      <td>business</td>\n",
              "      <td>Ad sales boost Time Warner profit</td>\n",
              "      <td>Quarterly profits at US media giant TimeWarne...</td>\n",
              "    </tr>\n",
              "    <tr>\n",
              "      <th>1</th>\n",
              "      <td>business</td>\n",
              "      <td>Dollar gains on Greenspan speech</td>\n",
              "      <td>The dollar has hit its highest level against ...</td>\n",
              "    </tr>\n",
              "    <tr>\n",
              "      <th>2</th>\n",
              "      <td>business</td>\n",
              "      <td>Yukos unit buyer faces loan claim</td>\n",
              "      <td>The owners of embattled Russian oil giant Yuk...</td>\n",
              "    </tr>\n",
              "    <tr>\n",
              "      <th>3</th>\n",
              "      <td>business</td>\n",
              "      <td>High fuel prices hit BA's profits</td>\n",
              "      <td>British Airways has blamed high fuel prices f...</td>\n",
              "    </tr>\n",
              "    <tr>\n",
              "      <th>4</th>\n",
              "      <td>business</td>\n",
              "      <td>Pernod takeover talk lifts Domecq</td>\n",
              "      <td>Shares in UK drinks and food firm Allied Dome...</td>\n",
              "    </tr>\n",
              "    <tr>\n",
              "      <th>...</th>\n",
              "      <td>...</td>\n",
              "      <td>...</td>\n",
              "      <td>...</td>\n",
              "    </tr>\n",
              "    <tr>\n",
              "      <th>2220</th>\n",
              "      <td>tech</td>\n",
              "      <td>BT program to beat dialler scams</td>\n",
              "      <td>BT is introducing two initiatives to help bea...</td>\n",
              "    </tr>\n",
              "    <tr>\n",
              "      <th>2221</th>\n",
              "      <td>tech</td>\n",
              "      <td>Spam e-mails tempt net shoppers</td>\n",
              "      <td>Computer users across the world continue to i...</td>\n",
              "    </tr>\n",
              "    <tr>\n",
              "      <th>2222</th>\n",
              "      <td>tech</td>\n",
              "      <td>Be careful how you code</td>\n",
              "      <td>A new European directive could put software w...</td>\n",
              "    </tr>\n",
              "    <tr>\n",
              "      <th>2223</th>\n",
              "      <td>tech</td>\n",
              "      <td>US cyber security chief resigns</td>\n",
              "      <td>The man making sure US computer networks are ...</td>\n",
              "    </tr>\n",
              "    <tr>\n",
              "      <th>2224</th>\n",
              "      <td>tech</td>\n",
              "      <td>Losing yourself in online gaming</td>\n",
              "      <td>Online role playing games are time-consuming,...</td>\n",
              "    </tr>\n",
              "  </tbody>\n",
              "</table>\n",
              "<p>2225 rows × 3 columns</p>\n",
              "</div>\n",
              "      <button class=\"colab-df-convert\" onclick=\"convertToInteractive('df-a05c8c3e-491b-4f17-a19e-4b9d7521bed3')\"\n",
              "              title=\"Convert this dataframe to an interactive table.\"\n",
              "              style=\"display:none;\">\n",
              "        \n",
              "  <svg xmlns=\"http://www.w3.org/2000/svg\" height=\"24px\"viewBox=\"0 0 24 24\"\n",
              "       width=\"24px\">\n",
              "    <path d=\"M0 0h24v24H0V0z\" fill=\"none\"/>\n",
              "    <path d=\"M18.56 5.44l.94 2.06.94-2.06 2.06-.94-2.06-.94-.94-2.06-.94 2.06-2.06.94zm-11 1L8.5 8.5l.94-2.06 2.06-.94-2.06-.94L8.5 2.5l-.94 2.06-2.06.94zm10 10l.94 2.06.94-2.06 2.06-.94-2.06-.94-.94-2.06-.94 2.06-2.06.94z\"/><path d=\"M17.41 7.96l-1.37-1.37c-.4-.4-.92-.59-1.43-.59-.52 0-1.04.2-1.43.59L10.3 9.45l-7.72 7.72c-.78.78-.78 2.05 0 2.83L4 21.41c.39.39.9.59 1.41.59.51 0 1.02-.2 1.41-.59l7.78-7.78 2.81-2.81c.8-.78.8-2.07 0-2.86zM5.41 20L4 18.59l7.72-7.72 1.47 1.35L5.41 20z\"/>\n",
              "  </svg>\n",
              "      </button>\n",
              "      \n",
              "  <style>\n",
              "    .colab-df-container {\n",
              "      display:flex;\n",
              "      flex-wrap:wrap;\n",
              "      gap: 12px;\n",
              "    }\n",
              "\n",
              "    .colab-df-convert {\n",
              "      background-color: #E8F0FE;\n",
              "      border: none;\n",
              "      border-radius: 50%;\n",
              "      cursor: pointer;\n",
              "      display: none;\n",
              "      fill: #1967D2;\n",
              "      height: 32px;\n",
              "      padding: 0 0 0 0;\n",
              "      width: 32px;\n",
              "    }\n",
              "\n",
              "    .colab-df-convert:hover {\n",
              "      background-color: #E2EBFA;\n",
              "      box-shadow: 0px 1px 2px rgba(60, 64, 67, 0.3), 0px 1px 3px 1px rgba(60, 64, 67, 0.15);\n",
              "      fill: #174EA6;\n",
              "    }\n",
              "\n",
              "    [theme=dark] .colab-df-convert {\n",
              "      background-color: #3B4455;\n",
              "      fill: #D2E3FC;\n",
              "    }\n",
              "\n",
              "    [theme=dark] .colab-df-convert:hover {\n",
              "      background-color: #434B5C;\n",
              "      box-shadow: 0px 1px 3px 1px rgba(0, 0, 0, 0.15);\n",
              "      filter: drop-shadow(0px 1px 2px rgba(0, 0, 0, 0.3));\n",
              "      fill: #FFFFFF;\n",
              "    }\n",
              "  </style>\n",
              "\n",
              "      <script>\n",
              "        const buttonEl =\n",
              "          document.querySelector('#df-a05c8c3e-491b-4f17-a19e-4b9d7521bed3 button.colab-df-convert');\n",
              "        buttonEl.style.display =\n",
              "          google.colab.kernel.accessAllowed ? 'block' : 'none';\n",
              "\n",
              "        async function convertToInteractive(key) {\n",
              "          const element = document.querySelector('#df-a05c8c3e-491b-4f17-a19e-4b9d7521bed3');\n",
              "          const dataTable =\n",
              "            await google.colab.kernel.invokeFunction('convertToInteractive',\n",
              "                                                     [key], {});\n",
              "          if (!dataTable) return;\n",
              "\n",
              "          const docLinkHtml = 'Like what you see? Visit the ' +\n",
              "            '<a target=\"_blank\" href=https://colab.research.google.com/notebooks/data_table.ipynb>data table notebook</a>'\n",
              "            + ' to learn more about interactive tables.';\n",
              "          element.innerHTML = '';\n",
              "          dataTable['output_type'] = 'display_data';\n",
              "          await google.colab.output.renderOutput(dataTable, element);\n",
              "          const docLink = document.createElement('div');\n",
              "          docLink.innerHTML = docLinkHtml;\n",
              "          element.appendChild(docLink);\n",
              "        }\n",
              "      </script>\n",
              "    </div>\n",
              "  </div>\n",
              "  "
            ]
          },
          "metadata": {},
          "execution_count": 28
        }
      ]
    },
    {
      "cell_type": "code",
      "source": [
        "#menggabungkan column title dan content\n",
        "df['text'] = df['title'] + \" \" + df['content']\n",
        "df"
      ],
      "metadata": {
        "colab": {
          "base_uri": "https://localhost:8080/",
          "height": 424
        },
        "id": "48UFzGJWrnX9",
        "outputId": "d39f1ce2-4875-4084-e1b1-d72a3485cd6c"
      },
      "execution_count": 31,
      "outputs": [
        {
          "output_type": "execute_result",
          "data": {
            "text/plain": [
              "      category                              title  \\\n",
              "0     business  Ad sales boost Time Warner profit   \n",
              "1     business   Dollar gains on Greenspan speech   \n",
              "2     business  Yukos unit buyer faces loan claim   \n",
              "3     business  High fuel prices hit BA's profits   \n",
              "4     business  Pernod takeover talk lifts Domecq   \n",
              "...        ...                                ...   \n",
              "2220      tech   BT program to beat dialler scams   \n",
              "2221      tech    Spam e-mails tempt net shoppers   \n",
              "2222      tech            Be careful how you code   \n",
              "2223      tech    US cyber security chief resigns   \n",
              "2224      tech   Losing yourself in online gaming   \n",
              "\n",
              "                                                content  \\\n",
              "0      Quarterly profits at US media giant TimeWarne...   \n",
              "1      The dollar has hit its highest level against ...   \n",
              "2      The owners of embattled Russian oil giant Yuk...   \n",
              "3      British Airways has blamed high fuel prices f...   \n",
              "4      Shares in UK drinks and food firm Allied Dome...   \n",
              "...                                                 ...   \n",
              "2220   BT is introducing two initiatives to help bea...   \n",
              "2221   Computer users across the world continue to i...   \n",
              "2222   A new European directive could put software w...   \n",
              "2223   The man making sure US computer networks are ...   \n",
              "2224   Online role playing games are time-consuming,...   \n",
              "\n",
              "                                                   text  \n",
              "0     Ad sales boost Time Warner profit  Quarterly p...  \n",
              "1     Dollar gains on Greenspan speech  The dollar h...  \n",
              "2     Yukos unit buyer faces loan claim  The owners ...  \n",
              "3     High fuel prices hit BA's profits  British Air...  \n",
              "4     Pernod takeover talk lifts Domecq  Shares in U...  \n",
              "...                                                 ...  \n",
              "2220  BT program to beat dialler scams  BT is introd...  \n",
              "2221  Spam e-mails tempt net shoppers  Computer user...  \n",
              "2222  Be careful how you code  A new European direct...  \n",
              "2223  US cyber security chief resigns  The man makin...  \n",
              "2224  Losing yourself in online gaming  Online role ...  \n",
              "\n",
              "[2225 rows x 4 columns]"
            ],
            "text/html": [
              "\n",
              "  <div id=\"df-2ad20676-afb5-4632-becb-0cf300ae4f4d\">\n",
              "    <div class=\"colab-df-container\">\n",
              "      <div>\n",
              "<style scoped>\n",
              "    .dataframe tbody tr th:only-of-type {\n",
              "        vertical-align: middle;\n",
              "    }\n",
              "\n",
              "    .dataframe tbody tr th {\n",
              "        vertical-align: top;\n",
              "    }\n",
              "\n",
              "    .dataframe thead th {\n",
              "        text-align: right;\n",
              "    }\n",
              "</style>\n",
              "<table border=\"1\" class=\"dataframe\">\n",
              "  <thead>\n",
              "    <tr style=\"text-align: right;\">\n",
              "      <th></th>\n",
              "      <th>category</th>\n",
              "      <th>title</th>\n",
              "      <th>content</th>\n",
              "      <th>text</th>\n",
              "    </tr>\n",
              "  </thead>\n",
              "  <tbody>\n",
              "    <tr>\n",
              "      <th>0</th>\n",
              "      <td>business</td>\n",
              "      <td>Ad sales boost Time Warner profit</td>\n",
              "      <td>Quarterly profits at US media giant TimeWarne...</td>\n",
              "      <td>Ad sales boost Time Warner profit  Quarterly p...</td>\n",
              "    </tr>\n",
              "    <tr>\n",
              "      <th>1</th>\n",
              "      <td>business</td>\n",
              "      <td>Dollar gains on Greenspan speech</td>\n",
              "      <td>The dollar has hit its highest level against ...</td>\n",
              "      <td>Dollar gains on Greenspan speech  The dollar h...</td>\n",
              "    </tr>\n",
              "    <tr>\n",
              "      <th>2</th>\n",
              "      <td>business</td>\n",
              "      <td>Yukos unit buyer faces loan claim</td>\n",
              "      <td>The owners of embattled Russian oil giant Yuk...</td>\n",
              "      <td>Yukos unit buyer faces loan claim  The owners ...</td>\n",
              "    </tr>\n",
              "    <tr>\n",
              "      <th>3</th>\n",
              "      <td>business</td>\n",
              "      <td>High fuel prices hit BA's profits</td>\n",
              "      <td>British Airways has blamed high fuel prices f...</td>\n",
              "      <td>High fuel prices hit BA's profits  British Air...</td>\n",
              "    </tr>\n",
              "    <tr>\n",
              "      <th>4</th>\n",
              "      <td>business</td>\n",
              "      <td>Pernod takeover talk lifts Domecq</td>\n",
              "      <td>Shares in UK drinks and food firm Allied Dome...</td>\n",
              "      <td>Pernod takeover talk lifts Domecq  Shares in U...</td>\n",
              "    </tr>\n",
              "    <tr>\n",
              "      <th>...</th>\n",
              "      <td>...</td>\n",
              "      <td>...</td>\n",
              "      <td>...</td>\n",
              "      <td>...</td>\n",
              "    </tr>\n",
              "    <tr>\n",
              "      <th>2220</th>\n",
              "      <td>tech</td>\n",
              "      <td>BT program to beat dialler scams</td>\n",
              "      <td>BT is introducing two initiatives to help bea...</td>\n",
              "      <td>BT program to beat dialler scams  BT is introd...</td>\n",
              "    </tr>\n",
              "    <tr>\n",
              "      <th>2221</th>\n",
              "      <td>tech</td>\n",
              "      <td>Spam e-mails tempt net shoppers</td>\n",
              "      <td>Computer users across the world continue to i...</td>\n",
              "      <td>Spam e-mails tempt net shoppers  Computer user...</td>\n",
              "    </tr>\n",
              "    <tr>\n",
              "      <th>2222</th>\n",
              "      <td>tech</td>\n",
              "      <td>Be careful how you code</td>\n",
              "      <td>A new European directive could put software w...</td>\n",
              "      <td>Be careful how you code  A new European direct...</td>\n",
              "    </tr>\n",
              "    <tr>\n",
              "      <th>2223</th>\n",
              "      <td>tech</td>\n",
              "      <td>US cyber security chief resigns</td>\n",
              "      <td>The man making sure US computer networks are ...</td>\n",
              "      <td>US cyber security chief resigns  The man makin...</td>\n",
              "    </tr>\n",
              "    <tr>\n",
              "      <th>2224</th>\n",
              "      <td>tech</td>\n",
              "      <td>Losing yourself in online gaming</td>\n",
              "      <td>Online role playing games are time-consuming,...</td>\n",
              "      <td>Losing yourself in online gaming  Online role ...</td>\n",
              "    </tr>\n",
              "  </tbody>\n",
              "</table>\n",
              "<p>2225 rows × 4 columns</p>\n",
              "</div>\n",
              "      <button class=\"colab-df-convert\" onclick=\"convertToInteractive('df-2ad20676-afb5-4632-becb-0cf300ae4f4d')\"\n",
              "              title=\"Convert this dataframe to an interactive table.\"\n",
              "              style=\"display:none;\">\n",
              "        \n",
              "  <svg xmlns=\"http://www.w3.org/2000/svg\" height=\"24px\"viewBox=\"0 0 24 24\"\n",
              "       width=\"24px\">\n",
              "    <path d=\"M0 0h24v24H0V0z\" fill=\"none\"/>\n",
              "    <path d=\"M18.56 5.44l.94 2.06.94-2.06 2.06-.94-2.06-.94-.94-2.06-.94 2.06-2.06.94zm-11 1L8.5 8.5l.94-2.06 2.06-.94-2.06-.94L8.5 2.5l-.94 2.06-2.06.94zm10 10l.94 2.06.94-2.06 2.06-.94-2.06-.94-.94-2.06-.94 2.06-2.06.94z\"/><path d=\"M17.41 7.96l-1.37-1.37c-.4-.4-.92-.59-1.43-.59-.52 0-1.04.2-1.43.59L10.3 9.45l-7.72 7.72c-.78.78-.78 2.05 0 2.83L4 21.41c.39.39.9.59 1.41.59.51 0 1.02-.2 1.41-.59l7.78-7.78 2.81-2.81c.8-.78.8-2.07 0-2.86zM5.41 20L4 18.59l7.72-7.72 1.47 1.35L5.41 20z\"/>\n",
              "  </svg>\n",
              "      </button>\n",
              "      \n",
              "  <style>\n",
              "    .colab-df-container {\n",
              "      display:flex;\n",
              "      flex-wrap:wrap;\n",
              "      gap: 12px;\n",
              "    }\n",
              "\n",
              "    .colab-df-convert {\n",
              "      background-color: #E8F0FE;\n",
              "      border: none;\n",
              "      border-radius: 50%;\n",
              "      cursor: pointer;\n",
              "      display: none;\n",
              "      fill: #1967D2;\n",
              "      height: 32px;\n",
              "      padding: 0 0 0 0;\n",
              "      width: 32px;\n",
              "    }\n",
              "\n",
              "    .colab-df-convert:hover {\n",
              "      background-color: #E2EBFA;\n",
              "      box-shadow: 0px 1px 2px rgba(60, 64, 67, 0.3), 0px 1px 3px 1px rgba(60, 64, 67, 0.15);\n",
              "      fill: #174EA6;\n",
              "    }\n",
              "\n",
              "    [theme=dark] .colab-df-convert {\n",
              "      background-color: #3B4455;\n",
              "      fill: #D2E3FC;\n",
              "    }\n",
              "\n",
              "    [theme=dark] .colab-df-convert:hover {\n",
              "      background-color: #434B5C;\n",
              "      box-shadow: 0px 1px 3px 1px rgba(0, 0, 0, 0.15);\n",
              "      filter: drop-shadow(0px 1px 2px rgba(0, 0, 0, 0.3));\n",
              "      fill: #FFFFFF;\n",
              "    }\n",
              "  </style>\n",
              "\n",
              "      <script>\n",
              "        const buttonEl =\n",
              "          document.querySelector('#df-2ad20676-afb5-4632-becb-0cf300ae4f4d button.colab-df-convert');\n",
              "        buttonEl.style.display =\n",
              "          google.colab.kernel.accessAllowed ? 'block' : 'none';\n",
              "\n",
              "        async function convertToInteractive(key) {\n",
              "          const element = document.querySelector('#df-2ad20676-afb5-4632-becb-0cf300ae4f4d');\n",
              "          const dataTable =\n",
              "            await google.colab.kernel.invokeFunction('convertToInteractive',\n",
              "                                                     [key], {});\n",
              "          if (!dataTable) return;\n",
              "\n",
              "          const docLinkHtml = 'Like what you see? Visit the ' +\n",
              "            '<a target=\"_blank\" href=https://colab.research.google.com/notebooks/data_table.ipynb>data table notebook</a>'\n",
              "            + ' to learn more about interactive tables.';\n",
              "          element.innerHTML = '';\n",
              "          dataTable['output_type'] = 'display_data';\n",
              "          await google.colab.output.renderOutput(dataTable, element);\n",
              "          const docLink = document.createElement('div');\n",
              "          docLink.innerHTML = docLinkHtml;\n",
              "          element.appendChild(docLink);\n",
              "        }\n",
              "      </script>\n",
              "    </div>\n",
              "  </div>\n",
              "  "
            ]
          },
          "metadata": {},
          "execution_count": 31
        }
      ]
    },
    {
      "cell_type": "markdown",
      "source": [
        "# DATA CLEANING"
      ],
      "metadata": {
        "id": "nQvpntiQsPlg"
      }
    },
    {
      "cell_type": "code",
      "source": [
        "from nltk.corpus import stopwords\n",
        "from nltk.tokenize import word_tokenize,sent_tokenize\n",
        "from bs4 import BeautifulSoup\n",
        "import re,string,unicodedata\n",
        "from sklearn.metrics import classification_report,confusion_matrix,accuracy_score\n",
        "from sklearn.model_selection import train_test_split\n",
        "from string import punctuation\n",
        "from nltk import pos_tag\n",
        "from nltk.corpus import wordnet\n",
        "import keras\n",
        "from keras.preprocessing import text, sequence\n",
        "import nltk\n",
        "nltk.download('stopwords')"
      ],
      "metadata": {
        "colab": {
          "base_uri": "https://localhost:8080/"
        },
        "id": "D09uVRo_sS3o",
        "outputId": "95a18877-beb7-4e04-b07e-871df325e01c"
      },
      "execution_count": 32,
      "outputs": [
        {
          "output_type": "stream",
          "name": "stderr",
          "text": [
            "[nltk_data] Downloading package stopwords to /root/nltk_data...\n",
            "[nltk_data]   Unzipping corpora/stopwords.zip.\n"
          ]
        },
        {
          "output_type": "execute_result",
          "data": {
            "text/plain": [
              "True"
            ]
          },
          "metadata": {},
          "execution_count": 32
        }
      ]
    },
    {
      "cell_type": "code",
      "source": [
        "#Deleting Stopwords\n",
        "\n",
        "stwd = set(stopwords.words('english'))\n",
        "punctuation = list(string.punctuation)\n",
        "stwd.update(punctuation)"
      ],
      "metadata": {
        "id": "eQ78PUznsnQ6"
      },
      "execution_count": 33,
      "outputs": []
    },
    {
      "cell_type": "code",
      "source": [
        "# data cleaning\n",
        "def strip_html(text):\n",
        "    soup = BeautifulSoup(text, \"html.parser\")\n",
        "    return soup.get_text()\n",
        "\n",
        "#deleting square brackets\n",
        "def remove_between_square_brackets(text):\n",
        "    return re.sub('\\[[^]]*\\]', '', text)\n",
        "#deleting URL's\n",
        "def remove_url(text):\n",
        "    return re.sub(r'http\\S+', '', text)\n",
        "#deleting stopwords dari text\n",
        "def remove_stopwords(text):\n",
        "    final_text = []\n",
        "    for i in text.split():\n",
        "        if i.strip().lower() not in stwd:\n",
        "            final_text.append(i.strip())\n",
        "    return \" \".join(final_text)\n",
        "#deleting noisy text\n",
        "def denoise_text(text):\n",
        "    text = strip_html(text)\n",
        "    text = remove_between_square_brackets(text)\n",
        "    text = remove_url(text)\n",
        "    text = remove_stopwords(text)\n",
        "    return text\n",
        "#Apply function on review column\n",
        "df['text']=df['text'].apply(denoise_text)"
      ],
      "metadata": {
        "id": "6SDnBpOhsysv"
      },
      "execution_count": 34,
      "outputs": []
    },
    {
      "cell_type": "markdown",
      "source": [
        "# Encoding and Splitting Data"
      ],
      "metadata": {
        "id": "WEEjt7dktGn6"
      }
    },
    {
      "cell_type": "code",
      "source": [
        "# data category one-hot-encoding\n",
        "category = pd.get_dummies(df.category)\n",
        "new_cat = pd.concat([df, category], axis=1)\n",
        "new_cat = new_cat.drop(columns='category')\n",
        "new_cat.head(10)"
      ],
      "metadata": {
        "colab": {
          "base_uri": "https://localhost:8080/",
          "height": 407
        },
        "id": "X_0UFf06tJdh",
        "outputId": "01443b39-fcd1-4da9-f2f3-49bbaf859e2f"
      },
      "execution_count": 35,
      "outputs": [
        {
          "output_type": "execute_result",
          "data": {
            "text/plain": [
              "                               title  \\\n",
              "0  Ad sales boost Time Warner profit   \n",
              "1   Dollar gains on Greenspan speech   \n",
              "2  Yukos unit buyer faces loan claim   \n",
              "3  High fuel prices hit BA's profits   \n",
              "4  Pernod takeover talk lifts Domecq   \n",
              "5   Japan narrowly escapes recession   \n",
              "6   Jobs growth still slow in the US   \n",
              "7   India calls for fair trade rules   \n",
              "8  Ethiopia's crop production up 24%   \n",
              "9  Court rejects $280bn tobacco case   \n",
              "\n",
              "                                             content  \\\n",
              "0   Quarterly profits at US media giant TimeWarne...   \n",
              "1   The dollar has hit its highest level against ...   \n",
              "2   The owners of embattled Russian oil giant Yuk...   \n",
              "3   British Airways has blamed high fuel prices f...   \n",
              "4   Shares in UK drinks and food firm Allied Dome...   \n",
              "5   Japan's economy teetered on the brink of a te...   \n",
              "6   The US created fewer jobs than expected in Ja...   \n",
              "7   India, which attends the G7 meeting of seven ...   \n",
              "8   Ethiopia produced 14.27 million tonnes of cro...   \n",
              "9   A US government claim accusing the country's ...   \n",
              "\n",
              "                                                text  business  entertainment  \\\n",
              "0  Ad sales boost Time Warner profit Quarterly pr...         1              0   \n",
              "1  Dollar gains Greenspan speech dollar hit highe...         1              0   \n",
              "2  Yukos unit buyer faces loan claim owners embat...         1              0   \n",
              "3  High fuel prices hit BA's profits British Airw...         1              0   \n",
              "4  Pernod takeover talk lifts Domecq Shares UK dr...         1              0   \n",
              "5  Japan narrowly escapes recession Japan's econo...         1              0   \n",
              "6  Jobs growth still slow US US created fewer job...         1              0   \n",
              "7  India calls fair trade rules India, attends G7...         1              0   \n",
              "8  Ethiopia's crop production 24% Ethiopia produc...         1              0   \n",
              "9  Court rejects $280bn tobacco case US governmen...         1              0   \n",
              "\n",
              "   politics  sport  tech  \n",
              "0         0      0     0  \n",
              "1         0      0     0  \n",
              "2         0      0     0  \n",
              "3         0      0     0  \n",
              "4         0      0     0  \n",
              "5         0      0     0  \n",
              "6         0      0     0  \n",
              "7         0      0     0  \n",
              "8         0      0     0  \n",
              "9         0      0     0  "
            ],
            "text/html": [
              "\n",
              "  <div id=\"df-99460bc6-ab85-453c-b651-8866a7d51b19\">\n",
              "    <div class=\"colab-df-container\">\n",
              "      <div>\n",
              "<style scoped>\n",
              "    .dataframe tbody tr th:only-of-type {\n",
              "        vertical-align: middle;\n",
              "    }\n",
              "\n",
              "    .dataframe tbody tr th {\n",
              "        vertical-align: top;\n",
              "    }\n",
              "\n",
              "    .dataframe thead th {\n",
              "        text-align: right;\n",
              "    }\n",
              "</style>\n",
              "<table border=\"1\" class=\"dataframe\">\n",
              "  <thead>\n",
              "    <tr style=\"text-align: right;\">\n",
              "      <th></th>\n",
              "      <th>title</th>\n",
              "      <th>content</th>\n",
              "      <th>text</th>\n",
              "      <th>business</th>\n",
              "      <th>entertainment</th>\n",
              "      <th>politics</th>\n",
              "      <th>sport</th>\n",
              "      <th>tech</th>\n",
              "    </tr>\n",
              "  </thead>\n",
              "  <tbody>\n",
              "    <tr>\n",
              "      <th>0</th>\n",
              "      <td>Ad sales boost Time Warner profit</td>\n",
              "      <td>Quarterly profits at US media giant TimeWarne...</td>\n",
              "      <td>Ad sales boost Time Warner profit Quarterly pr...</td>\n",
              "      <td>1</td>\n",
              "      <td>0</td>\n",
              "      <td>0</td>\n",
              "      <td>0</td>\n",
              "      <td>0</td>\n",
              "    </tr>\n",
              "    <tr>\n",
              "      <th>1</th>\n",
              "      <td>Dollar gains on Greenspan speech</td>\n",
              "      <td>The dollar has hit its highest level against ...</td>\n",
              "      <td>Dollar gains Greenspan speech dollar hit highe...</td>\n",
              "      <td>1</td>\n",
              "      <td>0</td>\n",
              "      <td>0</td>\n",
              "      <td>0</td>\n",
              "      <td>0</td>\n",
              "    </tr>\n",
              "    <tr>\n",
              "      <th>2</th>\n",
              "      <td>Yukos unit buyer faces loan claim</td>\n",
              "      <td>The owners of embattled Russian oil giant Yuk...</td>\n",
              "      <td>Yukos unit buyer faces loan claim owners embat...</td>\n",
              "      <td>1</td>\n",
              "      <td>0</td>\n",
              "      <td>0</td>\n",
              "      <td>0</td>\n",
              "      <td>0</td>\n",
              "    </tr>\n",
              "    <tr>\n",
              "      <th>3</th>\n",
              "      <td>High fuel prices hit BA's profits</td>\n",
              "      <td>British Airways has blamed high fuel prices f...</td>\n",
              "      <td>High fuel prices hit BA's profits British Airw...</td>\n",
              "      <td>1</td>\n",
              "      <td>0</td>\n",
              "      <td>0</td>\n",
              "      <td>0</td>\n",
              "      <td>0</td>\n",
              "    </tr>\n",
              "    <tr>\n",
              "      <th>4</th>\n",
              "      <td>Pernod takeover talk lifts Domecq</td>\n",
              "      <td>Shares in UK drinks and food firm Allied Dome...</td>\n",
              "      <td>Pernod takeover talk lifts Domecq Shares UK dr...</td>\n",
              "      <td>1</td>\n",
              "      <td>0</td>\n",
              "      <td>0</td>\n",
              "      <td>0</td>\n",
              "      <td>0</td>\n",
              "    </tr>\n",
              "    <tr>\n",
              "      <th>5</th>\n",
              "      <td>Japan narrowly escapes recession</td>\n",
              "      <td>Japan's economy teetered on the brink of a te...</td>\n",
              "      <td>Japan narrowly escapes recession Japan's econo...</td>\n",
              "      <td>1</td>\n",
              "      <td>0</td>\n",
              "      <td>0</td>\n",
              "      <td>0</td>\n",
              "      <td>0</td>\n",
              "    </tr>\n",
              "    <tr>\n",
              "      <th>6</th>\n",
              "      <td>Jobs growth still slow in the US</td>\n",
              "      <td>The US created fewer jobs than expected in Ja...</td>\n",
              "      <td>Jobs growth still slow US US created fewer job...</td>\n",
              "      <td>1</td>\n",
              "      <td>0</td>\n",
              "      <td>0</td>\n",
              "      <td>0</td>\n",
              "      <td>0</td>\n",
              "    </tr>\n",
              "    <tr>\n",
              "      <th>7</th>\n",
              "      <td>India calls for fair trade rules</td>\n",
              "      <td>India, which attends the G7 meeting of seven ...</td>\n",
              "      <td>India calls fair trade rules India, attends G7...</td>\n",
              "      <td>1</td>\n",
              "      <td>0</td>\n",
              "      <td>0</td>\n",
              "      <td>0</td>\n",
              "      <td>0</td>\n",
              "    </tr>\n",
              "    <tr>\n",
              "      <th>8</th>\n",
              "      <td>Ethiopia's crop production up 24%</td>\n",
              "      <td>Ethiopia produced 14.27 million tonnes of cro...</td>\n",
              "      <td>Ethiopia's crop production 24% Ethiopia produc...</td>\n",
              "      <td>1</td>\n",
              "      <td>0</td>\n",
              "      <td>0</td>\n",
              "      <td>0</td>\n",
              "      <td>0</td>\n",
              "    </tr>\n",
              "    <tr>\n",
              "      <th>9</th>\n",
              "      <td>Court rejects $280bn tobacco case</td>\n",
              "      <td>A US government claim accusing the country's ...</td>\n",
              "      <td>Court rejects $280bn tobacco case US governmen...</td>\n",
              "      <td>1</td>\n",
              "      <td>0</td>\n",
              "      <td>0</td>\n",
              "      <td>0</td>\n",
              "      <td>0</td>\n",
              "    </tr>\n",
              "  </tbody>\n",
              "</table>\n",
              "</div>\n",
              "      <button class=\"colab-df-convert\" onclick=\"convertToInteractive('df-99460bc6-ab85-453c-b651-8866a7d51b19')\"\n",
              "              title=\"Convert this dataframe to an interactive table.\"\n",
              "              style=\"display:none;\">\n",
              "        \n",
              "  <svg xmlns=\"http://www.w3.org/2000/svg\" height=\"24px\"viewBox=\"0 0 24 24\"\n",
              "       width=\"24px\">\n",
              "    <path d=\"M0 0h24v24H0V0z\" fill=\"none\"/>\n",
              "    <path d=\"M18.56 5.44l.94 2.06.94-2.06 2.06-.94-2.06-.94-.94-2.06-.94 2.06-2.06.94zm-11 1L8.5 8.5l.94-2.06 2.06-.94-2.06-.94L8.5 2.5l-.94 2.06-2.06.94zm10 10l.94 2.06.94-2.06 2.06-.94-2.06-.94-.94-2.06-.94 2.06-2.06.94z\"/><path d=\"M17.41 7.96l-1.37-1.37c-.4-.4-.92-.59-1.43-.59-.52 0-1.04.2-1.43.59L10.3 9.45l-7.72 7.72c-.78.78-.78 2.05 0 2.83L4 21.41c.39.39.9.59 1.41.59.51 0 1.02-.2 1.41-.59l7.78-7.78 2.81-2.81c.8-.78.8-2.07 0-2.86zM5.41 20L4 18.59l7.72-7.72 1.47 1.35L5.41 20z\"/>\n",
              "  </svg>\n",
              "      </button>\n",
              "      \n",
              "  <style>\n",
              "    .colab-df-container {\n",
              "      display:flex;\n",
              "      flex-wrap:wrap;\n",
              "      gap: 12px;\n",
              "    }\n",
              "\n",
              "    .colab-df-convert {\n",
              "      background-color: #E8F0FE;\n",
              "      border: none;\n",
              "      border-radius: 50%;\n",
              "      cursor: pointer;\n",
              "      display: none;\n",
              "      fill: #1967D2;\n",
              "      height: 32px;\n",
              "      padding: 0 0 0 0;\n",
              "      width: 32px;\n",
              "    }\n",
              "\n",
              "    .colab-df-convert:hover {\n",
              "      background-color: #E2EBFA;\n",
              "      box-shadow: 0px 1px 2px rgba(60, 64, 67, 0.3), 0px 1px 3px 1px rgba(60, 64, 67, 0.15);\n",
              "      fill: #174EA6;\n",
              "    }\n",
              "\n",
              "    [theme=dark] .colab-df-convert {\n",
              "      background-color: #3B4455;\n",
              "      fill: #D2E3FC;\n",
              "    }\n",
              "\n",
              "    [theme=dark] .colab-df-convert:hover {\n",
              "      background-color: #434B5C;\n",
              "      box-shadow: 0px 1px 3px 1px rgba(0, 0, 0, 0.15);\n",
              "      filter: drop-shadow(0px 1px 2px rgba(0, 0, 0, 0.3));\n",
              "      fill: #FFFFFF;\n",
              "    }\n",
              "  </style>\n",
              "\n",
              "      <script>\n",
              "        const buttonEl =\n",
              "          document.querySelector('#df-99460bc6-ab85-453c-b651-8866a7d51b19 button.colab-df-convert');\n",
              "        buttonEl.style.display =\n",
              "          google.colab.kernel.accessAllowed ? 'block' : 'none';\n",
              "\n",
              "        async function convertToInteractive(key) {\n",
              "          const element = document.querySelector('#df-99460bc6-ab85-453c-b651-8866a7d51b19');\n",
              "          const dataTable =\n",
              "            await google.colab.kernel.invokeFunction('convertToInteractive',\n",
              "                                                     [key], {});\n",
              "          if (!dataTable) return;\n",
              "\n",
              "          const docLinkHtml = 'Like what you see? Visit the ' +\n",
              "            '<a target=\"_blank\" href=https://colab.research.google.com/notebooks/data_table.ipynb>data table notebook</a>'\n",
              "            + ' to learn more about interactive tables.';\n",
              "          element.innerHTML = '';\n",
              "          dataTable['output_type'] = 'display_data';\n",
              "          await google.colab.output.renderOutput(dataTable, element);\n",
              "          const docLink = document.createElement('div');\n",
              "          docLink.innerHTML = docLinkHtml;\n",
              "          element.appendChild(docLink);\n",
              "        }\n",
              "      </script>\n",
              "    </div>\n",
              "  </div>\n",
              "  "
            ]
          },
          "metadata": {},
          "execution_count": 35
        }
      ]
    },
    {
      "cell_type": "code",
      "source": [
        "# change dataframe value to numpy array\n",
        "news = new_cat['text'].values\n",
        "label = new_cat[['business', 'entertainment', 'politics', 'sport', 'tech']].values"
      ],
      "metadata": {
        "id": "iGFKqJlatitm"
      },
      "execution_count": 36,
      "outputs": []
    },
    {
      "cell_type": "code",
      "source": [
        "news"
      ],
      "metadata": {
        "colab": {
          "base_uri": "https://localhost:8080/"
        },
        "id": "Y61ZAJIEtm7d",
        "outputId": "c59bfd28-b962-4a93-9db2-caa19364e488"
      },
      "execution_count": 37,
      "outputs": [
        {
          "output_type": "execute_result",
          "data": {
            "text/plain": [
              "array(['Ad sales boost Time Warner profit Quarterly profits US media giant TimeWarner jumped 76% $1.13bn (£600m) three months December, $639m year-earlier. firm, one biggest investors Google, benefited sales high-speed internet connections higher advert sales. TimeWarner said fourth quarter sales rose 2% $11.1bn $10.9bn. profits buoyed one-off gains offset profit dip Warner Bros, less users AOL. Time Warner said Friday owns 8% search-engine Google. internet business, AOL, mixed fortunes. lost 464,000 subscribers fourth quarter profits lower preceding three quarters. However, company said AOL\\'s underlying profit exceptional items rose 8% back stronger internet advertising revenues. hopes increase subscribers offering online service free TimeWarner internet customers try sign AOL\\'s existing customers high-speed broadband. TimeWarner also restate 2000 2003 results following probe US Securities Exchange Commission (SEC), close concluding. Time Warner\\'s fourth quarter profits slightly better analysts\\' expectations. film division saw profits slump 27% $284m, helped box-office flops Alexander Catwoman, sharp contrast year-earlier, third final film Lord Rings trilogy boosted results. full-year, TimeWarner posted profit $3.36bn, 27% 2003 performance, revenues grew 6.4% $42.09bn. \"Our financial performance strong, meeting exceeding full-year objectives greatly enhancing flexibility,\" chairman chief executive Richard Parsons said. 2005, TimeWarner projecting operating earnings growth around 5%, also expects higher revenue wider profit margins. TimeWarner restate accounts part efforts resolve inquiry AOL US market regulators. already offered pay $300m settle charges, deal review SEC. company said unable estimate amount needed set aside legal reserves, previously set $500m. intends adjust way accounts deal German music publisher Bertelsmann\\'s purchase stake AOL Europe, reported advertising revenue. book sale stake AOL Europe loss value stake.',\n",
              "       'Dollar gains Greenspan speech dollar hit highest level euro almost three months Federal Reserve head said US trade deficit set stabilise. Alan Greenspan highlighted US government\\'s willingness curb spending rising household savings factors may help reduce it. late trading New York, dollar reached $1.2871 euro, $1.2974 Thursday. Market concerns deficit hit greenback recent months. Friday, Federal Reserve chairman Mr Greenspan\\'s speech London ahead meeting G7 finance ministers sent dollar higher earlier tumbled back worse-than-expected US jobs data. \"I think chairman\\'s taking much sanguine view current account deficit he\\'s taken time,\" said Robert Sinche, head currency strategy Bank America New York. \"He\\'s taking longer-term view, laying set conditions current account deficit improve year next.\" Worries deficit concerns China do, however, remain. China\\'s currency remains pegged dollar US currency\\'s sharp falls recent months therefore made Chinese export prices highly competitive. calls shift Beijing\\'s policy fallen deaf ears, despite recent comments major Chinese newspaper \"time ripe\" loosening peg. G7 meeting thought unlikely produce meaningful movement Chinese policy. meantime, US Federal Reserve\\'s decision 2 February boost interest rates quarter point sixth move many months opened differential European rates. half-point window, believe, could enough keep US assets looking attractive, could help prop dollar. recent falls partly result big budget deficits, well US\\'s yawning current account gap, need funded buying US bonds assets foreign firms governments. White House announce budget Monday, many commentators believe deficit remain close half trillion dollars.',\n",
              "       'Yukos unit buyer faces loan claim owners embattled Russian oil giant Yukos ask buyer former production unit pay back $900m (£479m) loan. State-owned Rosneft bought Yugansk unit $9.3bn sale forced Russia part settle $27.5bn tax claim Yukos. Yukos\\' owner Menatep Group says ask Rosneft repay loan Yugansk secured assets. Rosneft already faces similar $540m repayment demand foreign banks. Legal experts said Rosneft\\'s purchase Yugansk would include obligations. \"The pledged assets Rosneft, pay real money creditors avoid seizure Yugansk assets,\" said Moscow-based US lawyer Jamie Firestone, connected case. Menatep Group\\'s managing director Tim Osborne told Reuters news agency: \"If default, fight rule law exists international arbitration clauses credit.\" Rosneft officials unavailable comment. company said intends take action Menatep recover tax claims debts owed Yugansk. Yukos filed bankruptcy protection US court attempt prevent forced sale main production arm. sale went ahead December Yugansk sold little-known shell company turn bought Rosneft. Yukos claims downfall punishment political ambitions founder Mikhail Khodorkovsky vowed sue participant sale.',\n",
              "       ...,\n",
              "       'careful code new European directive could put software writers risk legal action, warns former programmer technology analyst Bill Thompson. gets way, Dutch government conclude presidency European Union pushing controversial measure rejected European Parliament, lacks majority support national governments leave millions European citizens legal limbo facing possibility court cases them. new law border controls, defence even new constitution, TV screens would full experts agonising impact daily lives. Sadly directly affected, controversy concerns patenting computer programs, topic may excite bloggers, campaigning groups technical press obsess Middle Britain. all, much fuss generate Directive Patentability Computer-Implemented Inventions, way amends Article 52 1973 European Patent Convention? Yet new directive nodded next meeting one EU\\'s ministerial councils, seems likely, allow programs patented Europe US. Many observers computing scene, including myself, think results disastrous small companies, innovative programmers free open source software movement. let large companies patent sorts ideas give legal force want limit competitors\\' use really obvious ideas. US cannot build system stores customer credit card details pay without re-enter unless Amazon lets you, hold patent \"one-click\" online purchase. small invention, Amazon made patent office first owns it. relatively free sort thing here, perhaps long. new proposals go back 2002, although argument patentability software computer-implemented inventions going since least mid-1980s. come head year proposals made, endorsed Council Ministers, radically modified European Parliament re-presented original form. national governments seem aware problems. Poland rejected proposal Germany\\'s main political parties opposed it, enough opposition guarantee rejection. Early December British government held consultation meeting commented proposals. Science Minister Lord Sainsbury went along listen outline UK position, according present, embarrassing see little minister officials actually understood issues concerned. draft Directive put council called \"A\" item approved rejected. discussion amendment allowed. worried? First, abuse democratic process involved disregarding views parliament abandoning carefully argued amendments. goes heart European project, even care software patents worried. coders treated like today, say tomorrow? directly, software patents granted programmer worry code writing infringing someone else\\'s patent. stealing software, code already protected copyright. Patents copyright, something much stronger. patent gives owner right stop anyone else using invention, even person invented separately. never, shame, managed read Lord Byron\\'s Childe Harold\\'s Pilgrimage. pointed one articles contained substantial chunk poem could defend court claiming simply made coincidence. hold patent. sit afternoon write brilliant graphics compression routine happens LZW algorithm used GIF files, trouble patent law, least US. Coincidence defence. proposed directive supported many major software companies, hardly surprising since US-based already cope legal environment allows patents. legal departments and, crucially, patents trade cross-license patent holders. Even system breaks down, course, Microsoft found last year initially lost case brought Eolas claimed Internet Explorer (and browsers) infringed Eolas patent. one eventually thrown out, months uncertainty millions dollars. small companies, free open software movement patents trade. Much really useful software use every day, programs like Apache web server, GNU/Linux operating system fearsomely popular Firefox browser, developed outside company structures people legal departments check patent infringements. damage software happen overnight, course. directive goes written national laws steady stream legal actions small companies open source products. Eventually someone decide attack Linux directly, probably secret funding one two large players. new directive limit innovation forcing programmers spend time checking patent infringements simply avoiding working potentially competitive areas. damage Europe\\'s computer industry. hope Council Ministers integrity strength reject bad law. Bill Thompson regular commentator BBC World Service programme Go Digital.',\n",
              "       'US cyber security chief resigns man making sure US computer networks safe secure resigned year post. Amit Yoran director National Cyber Security Division within US Department Homeland Security created following 9/11 attacks. division tasked improving US defences malicious hackers, viruses net-based threats. Reports suggest left division given enough clout within larger organisation. Mr Yoran took post September 2003 first task get Cyber Security Division running. organisation staff 60 people budget $80m (£44.54m). division charged thinking carrying action make US networks impervious attack disruption viruses, worms hack attacks become commonplace. last 12 months Mr Yoran oversaw creation cyber alert system sends warnings big hitting viruses net attacks occur. warnings also contained information firms organisations could protect attacks. Cyber Security Division also audited US government networks discover exactly sitting network. next step creation scanning system identify vulnerabilities made federal networks machines susceptible attack malicious hackers virus writers. Mr Yoran\\'s division also work identify networks machines broken cyber criminals. Despite success Mr Yoran left post abruptly end last week, reportedly giving one day\\'s notice bosses Department Homeland Security. \"Amit Yoran valuable contributor cyber security issues past year, appreciate efforts starting department\\'s cybersecurity program,\" said Department Homeland Security spokeswoman. reports suggested Mr Yoran felt frustrated lack prominence given work protect net-based threats wider homeland organisation. attempt US politicians pass law promote Mr Yoran raise profile department\\'s work mired Congress.',\n",
              "       'Losing online gaming Online role playing games time-consuming, enthralling flights reality. people taking fantasy lives seriously? video game World Warcraft hit shops Europe last week fans wrote BBC website express delight offer warning. \"An addiction game like far costly time substance could impair keep track time,\" wrote Travis Anderson, Texas. comments humorous: \"This game good I\\'m going get it, there\\'s way could limit hours I\\'d spend playing it,\" wrote Charles MacIntyre, England. struck worrying tone Massively Multiplayer Online Role Playing Game (MMORPG): \"\\'You need get more\\' could motto MMORPG. Shame getting popular, know problem going mushroom,\" wrote Stuart Stanton-Davies, Huddersfield. Scare-mongering articles \"addictive video games\" existed since days first game Pong stopped everyone working Atari offices. Gaming like pastime quickly become unhealthy obsession, whether spending much time gym, front television, reading poetry. Unfortunately, gaming addiction far easy association make. However, stories gamers spending 10 15 hours day front video games becoming frequent. impact families quite distressing some. Massively multiplayer online role playing games MMORPGs allow thousands gamers share common experience sharing fantasy science fiction worlds. scope games like Warcraft, EverQuest, Ultima among others epic, exploration adventure almost infinite. Part \"problem\" grinding gamers perform long-winded, mindless tasks, bring levels gain access adventure. open-endedness brings desire keep playing; reason EverQuest (EQ) nicknamed EverCrack. E Hayot, writing culture blogzine Print Culture, said recently: \"I used play online role-playing game EverQuest lot. \"By \\'a lot\\', mean probably 15 20 hours week average, weeks work, many 30 40 hours.\" says world online gaming behaviour \"wasn\\'t unusual; lots people knew game played EQ much\". \"You lie; go work \"had stuff home\"; cancel refuse invitations dinner, spend much less time watching TV (a good thing, presumably),\" wrote, explaining EverQuest took time. quit game, says, realised life fun EverQuest. Let us clear obsession rare. huge growth online gaming means growth numbers people take passion hobby far. Almost 400,000 people bought copy World Warcraft first two days sale earlier month. fraction descend obsessives. thoughts families friends gamers affected EverQuest found one blog EverQuest Daily Grind. Jane, runs website, compiles chronicle heart-rending stories. \"I actually convinced point \\'some\\' people spend times MMOPRGs reality,\" said. One unnamed correspondent anonymous wrote: \"On rare nights husband come bed time do, find used sleeping difficult get sleep another body laying next me. \"I can\\'t talk playing. absolutely point hear distracted get \\'ummm... ya\\' minutes ask question.\" \"Gaming widows\" become comedic term women shut male gamers. least funny. Another correspondent wrote: \"I believe addicted online gaming, cause depression restlessness.\" even sadder: \"Today son five days old. \"The sad truth husband spent 11 hours today playing Warcraft game. interact sweet tiny baby important quests waiting online.\" Video game fans often complain hobby misunderstood marginalised. gaming becomes ever mainstream, games ever immersive, hiding place social problems. wish 30-40 hours week unusual think probably isn\\'t. 11 hour stretch surprising I\\'ve known people play 15+ hours stretch. know people spending week\\'s holiday work playing Warcraft. know people would play Ever shifts...waking 3am take friends resume waiting item \\'needed\\' appear. understand key sign addiction alter life around rather fit life. standards many us addicts. solution force stop playing..or need make real life bit interesting? Sadly talk people becoming obsessed gaming, find longing time join them. long term relationship 4 years since began, games become complex. find less less time play them, marriage work main drag time. think line playing game lot gaming addiction really quite distinct. play games lot, definately 20 hours week, go missing work commitments order play games. have, year ago, deleted every game computer. RPGs worst real world fades worries sorround new magic staff mighty sword. Unlike books, perhaps even TV, gain absolutely nothing. stop playing point started; achievements 10 hour session irretrievably locked game and, since gained nothing real world, may well pile achievement fake one. Despite little monetary value, \"rewards\" encouragement offered MMORPGs enough hook games hours daily. business could learn leverage simply human need easily measurable progress recognition. Perhaps unhealthily obsessed simply need recognition achievements reality? advice gaming widows \"if can\\'t beat \\'em, join \\'em\". is, try playing yourself. wants play well, well least together somewhere... addict cost relationship. still play now, without guilt hehe, long played one sitting? morning till early hours next day, birds singing side hobble bath room cos bladder full pain, would hardly eat, perhaps toast, smoke endlessly drink. Now, thankfully fascination worn girlfriend still job. part online gaming give adiction illusory achievement, end sight keep going mirage ultimate. Obsessive behaviour is, course, always cause concern, always bothers articles gaming talk terms \"reality\". Obviously, somebody spends thirty hours week playing EverQuest problem. problem, however, nothing dysfunctional sense reality. obsessive EQ player consider game \"real\" example obsessive automotive tinkerer considers car human. MMORPGs unique danger, terms encouraging obsessive behaviour, create absorbing virtual world, rather easily accessed 24/7. problem lie nature gaming, nature modern 24 hour culture. problem called MMORPGS never really complete them, there\\'s always another quest do. friends 10 hours sleep since released friday... Championship Manager consumed life years. One particular session started 2pm Sunday, paused brief sleep 5am Monday visit University classes restarted midday another 10 hour session. people tend hark problems \"hardcore gaming\" seem rarely allowed become immersed game. would expect perspective change that. used EverQuest addict college. came point gaming world felt real real one. failed alot courses able barely graduate. lucky came senses did, others less fortunate dropped college. holding job, avoid online RPGS like plague. made redundant told partner new job three months whilst every day played EverQuest 7:30am till 5:pm. came home pretended got well, hence justifying playing evening. since quit playing MMORPG good job. got point eating dinner front PC realised things getting silly I\\'m trying spend much time there. easy. feel I\\'ve got real addiction going here. problem love complete goal. completed it, finished, time move on. become obsessed complete goal, standpoint addiction. game never complete \"ultimate\" goal, well would like falling black pit. easier escape controlled fantasy world face reality times words goal offered PC game \"easier\" fun real world. Pretty scary implications think it. can\\'t buy World Warcraft would destroy marrage, know it!! played Star Wars Galaxies year attest addictiveness games. engineered way early game progress quickly, progress becomes exponentially slower, requiring time reach next level. I\\'m sad say peak addiction spending entire weekends front monitor, slowly building character, stopping food toilet breaks. Thankfully made clean break, actually managed sell Jedi account £800 sanity check otherwise completely unproductive time vacuum. Seven years ago, began playing Ultima Online. game dominated 2 years life. 2 wonderful years still vivid memories experiences friends had. Online gaming world escapism without fear thoughts others. Something cannot always achieved day day running normal life. Whilst would warn people giving much life games, believe better way spend time say watching TV. Gaming addictive made recognised addiction. single used play upto eight hours night work every night year, building stats, completing evermore quests battling ogres. somehow found time get out, even met someone got married! life changed? Hell no! still cast spells battle till early hours morning. fun! Online gaming enjoyed much would enjoy watching television, going cinema pub mates. Many people use recreational drugs occasional basis able lead succesfull lives families, relationships good careers. minority allow drugs take destroy lives become addicted. According article true MMORPGs. message government clear, either legalise drugs, outlaw online gaming!! Sounds like sad stories believe all. play alot Warcraft myself, know full well addictive is. resolute take life. certainly gets way though. think people simply know draw line, lack willpower stop stepping it. think I\\'m obsessed gaming general, spend far much time playing games like Everquest 2 Football Manager rather going interacting real people try to, I\\'m always thinking back mind I\\'d rather front computer winning league Cambridge United. obsessed online role playing games. much quests adrenaline real life situation goals achieve etc. spend five hours per day online playing rarely get four five hours sleep getting work next morning... many players spend time MMORPGs rather front TV fail see affect players social lives negatively. Furthermore types games contain huge social aspect, whereas games pursuits (such couch potato) players could indulging solitary nature. games like things -- much anything bad thing, long walk away computer things too, great fun. Living Korea moment, lots PC Bangs (Internet Cafes). Nearly South Koreans addicted online games, one Korean died lack food water playing online games. play xbox live every day. find self lying rescheduling everything around gaming fix. longest played 24 hour straight session. know play long obsession can\\'t control. reccomend counsellor wind up... something I\\'m increasingly concerned with... mate play online hour two day, we\\'re aware much time disappear sitting front TV, trying \\'frag\\' individual. getting balance getting home relasing stress day hour gaming, enjoying \\'real\\' life... bought US version World Warcraft came out. longest period played 23 hrs straight. gave game month addictive, subsequently bought European version (couldn\\'t help myself). future, I\\'m going regulate time far strictly. Great game! played MMORPG games years agree type games life sucking. concern younger generation gamers play hours end adult enviroment. MMORPG games need credit card play dont think parents know letting children into. Unless undeniable medical proof staring computer screens hours time damage person¿s health, expect decline get worse. people pathetic. need get machines notice world swiftly overcome issues troubles make trifling worries \"online universe\" absolutely meaningless. 24hours, kid school half term, Ultima Online game, ahhhh days LOL'],\n",
              "      dtype=object)"
            ]
          },
          "metadata": {},
          "execution_count": 37
        }
      ]
    },
    {
      "cell_type": "code",
      "source": [
        "label"
      ],
      "metadata": {
        "colab": {
          "base_uri": "https://localhost:8080/"
        },
        "id": "dO9poA7bto_f",
        "outputId": "1cb5c1ac-0ed3-4a91-891d-8e05becc43ba"
      },
      "execution_count": 38,
      "outputs": [
        {
          "output_type": "execute_result",
          "data": {
            "text/plain": [
              "array([[1, 0, 0, 0, 0],\n",
              "       [1, 0, 0, 0, 0],\n",
              "       [1, 0, 0, 0, 0],\n",
              "       ...,\n",
              "       [0, 0, 0, 0, 1],\n",
              "       [0, 0, 0, 0, 1],\n",
              "       [0, 0, 0, 0, 1]], dtype=uint8)"
            ]
          },
          "metadata": {},
          "execution_count": 38
        }
      ]
    },
    {
      "cell_type": "markdown",
      "source": [
        "# SPLIT DATASET"
      ],
      "metadata": {
        "id": "dFKnzuG0tvN4"
      }
    },
    {
      "cell_type": "code",
      "source": [
        "x_train,x_test,y_train,y_test = train_test_split(news, label,test_size = 0.2,shuffle=True)"
      ],
      "metadata": {
        "id": "U3Qk74Fhts24"
      },
      "execution_count": 39,
      "outputs": []
    },
    {
      "cell_type": "markdown",
      "source": [
        "# Tokenizer and Sequential Model with Embedding and LSTM"
      ],
      "metadata": {
        "id": "UZ5ST8xMuAu6"
      }
    },
    {
      "cell_type": "code",
      "source": [
        "vocab_size = 10000\n",
        "max_len = 200\n",
        "trunc_type = \"post\"\n",
        "oov_tok = \"\"\n",
        "\n",
        "tokenizer = Tokenizer(num_words=vocab_size, oov_token=oov_tok)\n",
        "tokenizer.fit_on_texts(x_train)\n",
        "\n",
        "word_index = tokenizer.word_index\n",
        "\n",
        "sequences_train = tokenizer.texts_to_sequences(x_train)\n",
        "sequences_test = tokenizer.texts_to_sequences(x_test)\n",
        "pad_train = pad_sequences(sequences_train, maxlen=max_len, truncating=trunc_type)\n",
        "pad_test = pad_sequences(sequences_test, maxlen=max_len, truncating=trunc_type)\n",
        "\n",
        "print(pad_test.shape)"
      ],
      "metadata": {
        "colab": {
          "base_uri": "https://localhost:8080/"
        },
        "id": "SvdV6zNEt-Sj",
        "outputId": "0c6d28aa-df46-4a4a-d3e8-b9a41acdbed9"
      },
      "execution_count": 40,
      "outputs": [
        {
          "output_type": "stream",
          "name": "stdout",
          "text": [
            "(445, 200)\n"
          ]
        }
      ]
    },
    {
      "cell_type": "code",
      "source": [
        "pad_train"
      ],
      "metadata": {
        "colab": {
          "base_uri": "https://localhost:8080/"
        },
        "id": "UvuiBItBup1e",
        "outputId": "dbc8c6f3-b57e-44cb-9051-9e3d41b5aac8"
      },
      "execution_count": 41,
      "outputs": [
        {
          "output_type": "execute_result",
          "data": {
            "text/plain": [
              "array([[   1, 1656, 2104, ...,   86, 1858, 2787],\n",
              "       [   0,    0,    0, ...,  174,  774,    1],\n",
              "       [   0,    0,    0, ...,   20,  188,   62],\n",
              "       ...,\n",
              "       [ 674,   51,  588, ..., 2050,    1,    1],\n",
              "       [2055,  294, 6116, ...,  502,  565,    8],\n",
              "       [ 603,  468,    1, ...,  305, 1830,  176]], dtype=int32)"
            ]
          },
          "metadata": {},
          "execution_count": 41
        }
      ]
    },
    {
      "cell_type": "code",
      "source": [
        "pad_test"
      ],
      "metadata": {
        "colab": {
          "base_uri": "https://localhost:8080/"
        },
        "id": "0mmVWM8Xush4",
        "outputId": "84a1b216-854c-4d5d-a09f-3146dfdceed2"
      },
      "execution_count": 42,
      "outputs": [
        {
          "output_type": "execute_result",
          "data": {
            "text/plain": [
              "array([[1123, 1290,  232, ...,    1,  167,   95],\n",
              "       [   0,    0,    0, ...,   15,   21,  383],\n",
              "       [   1,  520, 1328, ..., 7457, 1578,  369],\n",
              "       ...,\n",
              "       [ 584,  472, 4668, ...,   96, 2006,  185],\n",
              "       [   0,    0,    0, ...,  631,   73, 3693],\n",
              "       [3508,  293,    1, ..., 8792, 3789, 2302]], dtype=int32)"
            ]
          },
          "metadata": {},
          "execution_count": 42
        }
      ]
    },
    {
      "cell_type": "code",
      "source": [
        "# model\n",
        "model = tf.keras.Sequential([\n",
        "    tf.keras.layers.Embedding(input_dim=vocab_size, output_dim=64, input_length=max_len),\n",
        "    tf.keras.layers.LSTM(128),\n",
        "    tf.keras.layers.Dense(128, activation='relu'),\n",
        "    tf.keras.layers.Dropout(0.5),\n",
        "    tf.keras.layers.Dense(5, activation='softmax')\n",
        "])\n",
        "model.compile(optimizer='adam', metrics=['accuracy'], loss='categorical_crossentropy',)\n",
        "model.summary()"
      ],
      "metadata": {
        "colab": {
          "base_uri": "https://localhost:8080/"
        },
        "id": "q62d9hcRuvf5",
        "outputId": "074aa7b5-4b28-45bd-d072-57d598ff6ba3"
      },
      "execution_count": 43,
      "outputs": [
        {
          "output_type": "stream",
          "name": "stdout",
          "text": [
            "Model: \"sequential\"\n",
            "_________________________________________________________________\n",
            " Layer (type)                Output Shape              Param #   \n",
            "=================================================================\n",
            " embedding (Embedding)       (None, 200, 64)           640000    \n",
            "                                                                 \n",
            " lstm (LSTM)                 (None, 128)               98816     \n",
            "                                                                 \n",
            " dense (Dense)               (None, 128)               16512     \n",
            "                                                                 \n",
            " dropout (Dropout)           (None, 128)               0         \n",
            "                                                                 \n",
            " dense_1 (Dense)             (None, 5)                 645       \n",
            "                                                                 \n",
            "=================================================================\n",
            "Total params: 755,973\n",
            "Trainable params: 755,973\n",
            "Non-trainable params: 0\n",
            "_________________________________________________________________\n"
          ]
        }
      ]
    },
    {
      "cell_type": "code",
      "source": [
        "# callback\n",
        "class myCallback(tf.keras.callbacks.Callback):\n",
        "  def on_epoch_end(self, epoch, logs={}):\n",
        "    if(logs.get('accuracy')>0.93 and logs.get('val_accuracy')>0.93):\n",
        "      self.model.stop_training = True\n",
        "      print(\"\\n accuracy from training set and the validation set is fullfiled > 93%!\")\n",
        "callbacks = myCallback()"
      ],
      "metadata": {
        "id": "ZFWtykQju0oH"
      },
      "execution_count": 44,
      "outputs": []
    },
    {
      "cell_type": "code",
      "source": [
        "num_epochs = 50\n",
        "history = model.fit(pad_train, y_train, epochs=num_epochs, \n",
        "                    validation_data=(pad_test, y_test), verbose=2, callbacks=[callbacks])"
      ],
      "metadata": {
        "colab": {
          "base_uri": "https://localhost:8080/"
        },
        "id": "kTXs9JWkvxYD",
        "outputId": "009a4ddc-fc13-4794-9110-ec64fcb97515"
      },
      "execution_count": 45,
      "outputs": [
        {
          "output_type": "stream",
          "name": "stdout",
          "text": [
            "Epoch 1/50\n",
            "56/56 - 23s - loss: 1.5786 - accuracy: 0.2522 - val_loss: 1.4224 - val_accuracy: 0.3978 - 23s/epoch - 406ms/step\n",
            "Epoch 2/50\n",
            "56/56 - 16s - loss: 1.1928 - accuracy: 0.4433 - val_loss: 1.0926 - val_accuracy: 0.4517 - 16s/epoch - 287ms/step\n",
            "Epoch 3/50\n",
            "56/56 - 16s - loss: 0.8174 - accuracy: 0.6365 - val_loss: 0.7273 - val_accuracy: 0.7573 - 16s/epoch - 284ms/step\n",
            "Epoch 4/50\n",
            "56/56 - 16s - loss: 0.4304 - accuracy: 0.8506 - val_loss: 0.6731 - val_accuracy: 0.8157 - 16s/epoch - 287ms/step\n",
            "Epoch 5/50\n",
            "56/56 - 16s - loss: 0.1987 - accuracy: 0.9528 - val_loss: 0.5539 - val_accuracy: 0.8449 - 16s/epoch - 286ms/step\n",
            "Epoch 6/50\n",
            "56/56 - 16s - loss: 0.1466 - accuracy: 0.9685 - val_loss: 0.3220 - val_accuracy: 0.9034 - 16s/epoch - 286ms/step\n",
            "Epoch 7/50\n",
            "56/56 - 17s - loss: 0.0292 - accuracy: 0.9955 - val_loss: 0.3451 - val_accuracy: 0.9079 - 17s/epoch - 302ms/step\n",
            "Epoch 8/50\n",
            "56/56 - 16s - loss: 0.0133 - accuracy: 0.9978 - val_loss: 0.2945 - val_accuracy: 0.9258 - 16s/epoch - 289ms/step\n",
            "Epoch 9/50\n",
            "\n",
            " accuracy from training set and the validation set is fullfiled > 93%!\n",
            "56/56 - 16s - loss: 0.0088 - accuracy: 0.9983 - val_loss: 0.2453 - val_accuracy: 0.9506 - 16s/epoch - 284ms/step\n"
          ]
        }
      ]
    },
    {
      "cell_type": "code",
      "source": [
        "# plot of accuracy\n",
        "plt.plot(history.history['accuracy'])\n",
        "plt.plot(history.history['val_accuracy'])\n",
        "plt.title('Accuracy Model')\n",
        "plt.ylabel('Accuracy')\n",
        "plt.xlabel('Epoch')\n",
        "plt.legend(['Train Process', 'Test Process'], loc='upper left')\n",
        "plt.show()"
      ],
      "metadata": {
        "colab": {
          "base_uri": "https://localhost:8080/",
          "height": 295
        },
        "id": "Gd51OwiFvyKk",
        "outputId": "56546d6a-1cda-44be-f3a5-90a27e3e0dde"
      },
      "execution_count": 49,
      "outputs": [
        {
          "output_type": "display_data",
          "data": {
            "text/plain": [
              "<Figure size 432x288 with 1 Axes>"
            ],
            "image/png": "[encoded data removed]"
          },
          "metadata": {}
        }
      ]
    },
    {
      "cell_type": "code",
      "source": [
        "# plot of loss\n",
        "plt.plot(history.history['loss'])\n",
        "plt.plot(history.history['val_loss'])\n",
        "plt.title('Loss Model')\n",
        "plt.ylabel('Loss')\n",
        "plt.xlabel('Epoch')\n",
        "plt.legend(['Train Process', 'Test Process'], loc='upper left')\n",
        "plt.show()"
      ],
      "metadata": {
        "id": "jcRPZUIUy9Qd",
        "outputId": "e3574b94-4cdc-49f6-894e-02732e3c818c",
        "colab": {
          "base_uri": "https://localhost:8080/",
          "height": 295
        }
      },
      "execution_count": 50,
      "outputs": [
        {
          "output_type": "display_data",
          "data": {
            "text/plain": [
              "<Figure size 432x288 with 1 Axes>"
            ],
            "image/png": "[encoded data removed]"
          },
          "metadata": {}
        }
      ]
    }
  ],
  "metadata": {
    "colab": {
      "provenance": [],
      "collapsed_sections": [
        "TK4647_guc6p",
        "nQvpntiQsPlg",
        "WEEjt7dktGn6",
        "dFKnzuG0tvN4"
      ]
    },
    "kernelspec": {
      "display_name": "Python 3",
      "name": "python3"
    },
    "language_info": {
      "name": "python"
    }
  },
  "nbformat": 4,
  "nbformat_minor": 0
}