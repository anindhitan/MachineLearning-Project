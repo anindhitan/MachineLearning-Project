{
  "nbformat": 4,
  "nbformat_minor": 0,
  "metadata": {
    "colab": {
      "provenance": []
    },
    "kernelspec": {
      "name": "python3",
      "display_name": "Python 3"
    },
    "language_info": {
      "name": "python"
    }
  },
  "cells": [
    {
      "cell_type": "markdown",
      "source": [
        "# Nama : Anindhita Nisitasari"
      ],
      "metadata": {
        "id": "NIgNtjj4JGMn"
      }
    },
    {
      "cell_type": "markdown",
      "source": [
        "# Set The Data"
      ],
      "metadata": {
        "id": "bgUo0QooJNjJ"
      }
    },
    {
      "cell_type": "code",
      "source": [
        "!pip install scikit-image==0.16.2\n",
        "!pip install tensorflow==1.15\n",
        "!pip install keras==2.2.4\n",
        "!pip install h5py==2.10.0\n",
        "!pip install opencv-python\n",
        "!pip install imgaug\n",
        "!pip install IPython[all]"
      ],
      "metadata": {
        "id": "kGBynXv0249U"
      },
      "execution_count": null,
      "outputs": []
    },
    {
      "cell_type": "code",
      "source": [
        "# install package\n",
        "!pip install -q kaggle\n",
        "from google.colab import files\n",
        "import io\n",
        "import zipfile\n",
        "import sklearn\n",
        "from sklearn import datasets\n",
        "from sklearn.model_selection import train_test_split\n",
        "from tensorflow.keras.preprocessing.image import ImageDataGenerator\n",
        "import tensorflow as tf\n",
        "from tensorflow.keras.preprocessing.image import ImageDataGenerator\n",
        "from tensorflow.keras.models import Sequential\n",
        "from tensorflow.keras.layers import Conv2D, MaxPooling2D, Activation, Dense, Flatten\n",
        "from tensorflow.keras.layers import Dropout\n",
        "from tensorflow.keras.optimizers import Adam"
      ],
      "metadata": {
        "id": "vVDHgWYGJ0ZE"
      },
      "execution_count": 55,
      "outputs": []
    },
    {
      "cell_type": "code",
      "source": [
        "! chmod 600 /content/kaggle.json"
      ],
      "metadata": {
        "id": "L0xDIVX4MWFT"
      },
      "execution_count": 56,
      "outputs": []
    },
    {
      "cell_type": "code",
      "source": [
        "! KAGGLE_CONFIG_DIR=/content/ kaggle datasets download -d mahmoudreda55/satellite-image-classification"
      ],
      "metadata": {
        "colab": {
          "base_uri": "https://localhost:8080/"
        },
        "id": "PDlsIURVMjST",
        "outputId": "04f12c94-7bf9-44f5-87c3-f0f180abb5e1"
      },
      "execution_count": 57,
      "outputs": [
        {
          "output_type": "stream",
          "name": "stdout",
          "text": [
            "satellite-image-classification.zip: Skipping, found more recently modified local copy (use --force to force download)\n"
          ]
        }
      ]
    },
    {
      "cell_type": "code",
      "source": [
        "import zipfile,os,shutil\n",
        "local_zip = '/content/satellite-image-classification.zip'\n",
        "zip_ref = zipfile.ZipFile(local_zip, 'r')\n",
        "zip_ref.extractall('/tmp')\n",
        "zip_ref.close()"
      ],
      "metadata": {
        "id": "wMmTCgY0MwOL"
      },
      "execution_count": 58,
      "outputs": []
    },
    {
      "cell_type": "code",
      "source": [
        "base_dir = '/tmp/data'\n",
        "cloudy_dir = os.path.join(base_dir,'cloudy')\n",
        "desert_dir = os.path.join(base_dir, 'desert')\n",
        "green_dir = os.path.join(base_dir, 'green_area')\n",
        "water_dir = os.path.join(base_dir, 'water')"
      ],
      "metadata": {
        "id": "yrF-4ZooNeyo"
      },
      "execution_count": 59,
      "outputs": []
    },
    {
      "cell_type": "code",
      "source": [
        "cloudy_total = len(os.listdir(cloudy_dir))\n",
        "desert_total = len(os.listdir(desert_dir))\n",
        "green_total = len(os.listdir(green_dir))\n",
        "water_total = len(os.listdir(water_dir))\n",
        "\n",
        "# to know the amount of the data\n",
        "print(\"Cloudy total image      : \",cloudy_total)\n",
        "print(\"Desert total image      : \",desert_total)\n",
        "print(\"Green Area total image  : \",green_total)\n",
        "print(\"Water total image       : \",water_total)"
      ],
      "metadata": {
        "colab": {
          "base_uri": "https://localhost:8080/"
        },
        "id": "DWBkKLbTOamu",
        "outputId": "f9ea6166-8d1f-42f7-e7cd-c5e4177e480a"
      },
      "execution_count": 60,
      "outputs": [
        {
          "output_type": "stream",
          "name": "stdout",
          "text": [
            "Cloudy total image      :  1500\n",
            "Desert total image      :  1131\n",
            "Green Area total image  :  1500\n",
            "Water total image       :  1500\n"
          ]
        }
      ]
    },
    {
      "cell_type": "code",
      "source": [
        "val_size = 0.2\n",
        "\n",
        "Train_datagen = ImageDataGenerator(\n",
        "    rotation_range = 45,\n",
        "    brightness_range = [0.2,1.0],\n",
        "    shear_range = 0.2,\n",
        "    zoom_range = 0.2,\n",
        "    horizontal_flip = True,\n",
        "    fill_mode = \"nearest\",\n",
        "    rescale = 1./255,\n",
        "    validation_split = val_size\n",
        ")\n",
        "\n",
        "Validation_datagen = ImageDataGenerator(\n",
        "    rotation_range = 45,\n",
        "    brightness_range = [0.2,1.0],\n",
        "    shear_range = 0.2,\n",
        "    zoom_range = 0.2,\n",
        "    horizontal_flip = True,\n",
        "    fill_mode = \"nearest\",\n",
        "    rescale = 1./255,\n",
        "    validation_split = val_size\n",
        ")"
      ],
      "metadata": {
        "id": "1LjAP1efPrMi"
      },
      "execution_count": 61,
      "outputs": []
    },
    {
      "cell_type": "code",
      "source": [
        "# Train dan Validation generator  dengan mode categorical\n",
        "Train_generator = Train_datagen.flow_from_directory(\n",
        "    base_dir,\n",
        "    target_size = (150,150),\n",
        "    color_mode = \"rgb\",\n",
        "    class_mode = \"categorical\",\n",
        "    batch_size = 16,\n",
        "    shuffle = True,\n",
        "    subset = \"training\"\n",
        ")\n",
        "\n",
        "Validation_generator = Validation_datagen.flow_from_directory(\n",
        "    base_dir,\n",
        "    target_size = (150,150),\n",
        "    color_mode = \"rgb\",\n",
        "    class_mode = \"categorical\",\n",
        "    batch_size = 16,\n",
        "    shuffle = False,\n",
        "    subset = \"validation\"\n",
        ")"
      ],
      "metadata": {
        "colab": {
          "base_uri": "https://localhost:8080/"
        },
        "id": "zU5pxrqCP1sJ",
        "outputId": "8e961d46-c2cd-4108-e3b2-651c9a409c40"
      },
      "execution_count": 62,
      "outputs": [
        {
          "output_type": "stream",
          "name": "stdout",
          "text": [
            "Found 4505 images belonging to 4 classes.\n",
            "Found 1126 images belonging to 4 classes.\n"
          ]
        }
      ]
    },
    {
      "cell_type": "markdown",
      "source": [
        "# Model"
      ],
      "metadata": {
        "id": "qdrSDvvJJbWO"
      }
    },
    {
      "cell_type": "code",
      "source": [
        "from keras.models import Sequential\n",
        "from keras.layers import Dense, Dropout, Activation\n",
        "from keras.optimizers import SGD"
      ],
      "metadata": {
        "id": "Tq1fa7fydngD"
      },
      "execution_count": 63,
      "outputs": []
    },
    {
      "cell_type": "code",
      "source": [
        "import keras\n",
        "import keras.utils\n",
        "from keras import utils as np_utils\n",
        "from tensorflow.keras.layers import Input"
      ],
      "metadata": {
        "id": "KbNEdyUVdv7q"
      },
      "execution_count": 86,
      "outputs": []
    },
    {
      "cell_type": "code",
      "source": [
        "# Pembuatan Model dengan tipe Sequential\n",
        "Model = Sequential(\n",
        "    [\n",
        "     # Activation menggunakan relu + softmax\n",
        "     Conv2D(32, (3,3), strides = (1,1), activation = 'relu' , input_shape = (150,150,3)),\n",
        "     MaxPooling2D(pool_size = (2,2), padding = 'valid'),\n",
        "     Conv2D(64, (3,3), strides = (1,1), activation = 'relu' ),\n",
        "     MaxPooling2D(pool_size = (2,2), padding = 'valid'),\n",
        "     Conv2D(128, (3,3), strides = (1,1), activation = 'relu' ),\n",
        "     MaxPooling2D(pool_size = (2,2), padding = 'valid'),\n",
        "     Flatten(),\n",
        "     # Droupout\n",
        "     Dropout(0.2),\n",
        "     Dense(128, activation = 'relu'),\n",
        "     Dense(4, activation='softmax')\n",
        "    ]\n",
        ")"
      ],
      "metadata": {
        "id": "SE4aYyXcb2dK"
      },
      "execution_count": 93,
      "outputs": []
    },
    {
      "cell_type": "code",
      "source": [
        "\n",
        "# Penggunaan Optimizer 'Adam' dengan learning rate 0.00146\n",
        "Adam(learning_rate=0.00146, name='Adam')\n",
        "Model.compile(optimizer = 'Adam',loss = 'categorical_crossentropy',metrics = ['accuracy'])"
      ],
      "metadata": {
        "id": "UfmF8gnrQarV"
      },
      "execution_count": 94,
      "outputs": []
    },
    {
      "cell_type": "code",
      "source": [
        "def scheduler(epoch, lr):\n",
        "  if epoch < 5:\n",
        "    return lr\n",
        "  else:\n",
        "    return lr * tf.math.exp(-0.1)\n",
        "\n",
        "lr_schedule = tf.keras.callbacks.LearningRateScheduler(scheduler, verbose=1)\n",
        "tb_callback = tf.keras.callbacks.TensorBoard(\n",
        "    log_dir='logs', histogram_freq=0, write_graph=True, write_images=False,\n",
        "    update_freq='epoch', embeddings_freq=0,\n",
        "    embeddings_metadata=None\n",
        ")\n",
        "\n",
        "Model.summary()"
      ],
      "metadata": {
        "colab": {
          "base_uri": "https://localhost:8080/"
        },
        "id": "19Xzm61-ReGM",
        "outputId": "e88ec428-5e02-4f48-93a4-58a453f7f4a7"
      },
      "execution_count": 95,
      "outputs": [
        {
          "output_type": "stream",
          "name": "stdout",
          "text": [
            "Model: \"sequential_7\"\n",
            "_________________________________________________________________\n",
            " Layer (type)                Output Shape              Param #   \n",
            "=================================================================\n",
            " conv2d_22 (Conv2D)          (None, 148, 148, 32)      896       \n",
            "                                                                 \n",
            " max_pooling2d_22 (MaxPoolin  (None, 74, 74, 32)       0         \n",
            " g2D)                                                            \n",
            "                                                                 \n",
            " conv2d_23 (Conv2D)          (None, 72, 72, 64)        18496     \n",
            "                                                                 \n",
            " max_pooling2d_23 (MaxPoolin  (None, 36, 36, 64)       0         \n",
            " g2D)                                                            \n",
            "                                                                 \n",
            " conv2d_24 (Conv2D)          (None, 34, 34, 128)       73856     \n",
            "                                                                 \n",
            " max_pooling2d_24 (MaxPoolin  (None, 17, 17, 128)      0         \n",
            " g2D)                                                            \n",
            "                                                                 \n",
            " flatten_7 (Flatten)         (None, 36992)             0         \n",
            "                                                                 \n",
            " dropout_7 (Dropout)         (None, 36992)             0         \n",
            "                                                                 \n",
            " dense_14 (Dense)            (None, 128)               4735104   \n",
            "                                                                 \n",
            " dense_15 (Dense)            (None, 4)                 516       \n",
            "                                                                 \n",
            "=================================================================\n",
            "Total params: 4,828,868\n",
            "Trainable params: 4,828,868\n",
            "Non-trainable params: 0\n",
            "_________________________________________________________________\n"
          ]
        }
      ]
    },
    {
      "cell_type": "code",
      "source": [
        "# Proses Training \n",
        "batch_size = 1\n",
        "\n",
        "with tf.device(\"/device:GPU:0\"):\n",
        "  history = Model.fit(Train_generator, \n",
        "                    epochs =  100, \n",
        "                    steps_per_epoch = 50//batch_size, \n",
        "                    validation_data = Validation_generator, \n",
        "                    verbose = 1, \n",
        "                    validation_steps = 50//batch_size,\n",
        "                    callbacks =[lr_schedule, tb_callback])\n",
        "     \n",
        "     "
      ],
      "metadata": {
        "colab": {
          "base_uri": "https://localhost:8080/"
        },
        "id": "-2ofYe_1sUqD",
        "outputId": "ec49754d-3b6c-4b0d-e05f-ae79ff8fa250"
      },
      "execution_count": 96,
      "outputs": [
        {
          "output_type": "stream",
          "name": "stdout",
          "text": [
            "\n",
            "Epoch 1: LearningRateScheduler setting learning rate to 0.0010000000474974513.\n",
            "Epoch 1/100\n",
            "50/50 [==============================] - ETA: 0s - loss: 0.8169 - accuracy: 0.5624"
          ]
        },
        {
          "output_type": "stream",
          "name": "stderr",
          "text": [
            "WARNING:tensorflow:AutoGraph could not transform <function Model.make_test_function.<locals>.test_function at 0x7fe815cee0d0> and will run it as-is.\n",
            "Cause: Unable to locate the source code of <function Model.make_test_function.<locals>.test_function at 0x7fe815cee0d0>. Note that functions defined in certain environments, like the interactive Python shell, do not expose their source code. If that is the case, you should define them in a .py source file. If you are certain the code is graph-compatible, wrap the call using @tf.autograph.experimental.do_not_convert. Original error: lineno is out of bounds\n",
            "To silence this warning, decorate the function with @tf.autograph.experimental.do_not_convert\n"
          ]
        },
        {
          "output_type": "stream",
          "name": "stdout",
          "text": [
            "WARNING: AutoGraph could not transform <function Model.make_test_function.<locals>.test_function at 0x7fe815cee0d0> and will run it as-is.\n",
            "Cause: Unable to locate the source code of <function Model.make_test_function.<locals>.test_function at 0x7fe815cee0d0>. Note that functions defined in certain environments, like the interactive Python shell, do not expose their source code. If that is the case, you should define them in a .py source file. If you are certain the code is graph-compatible, wrap the call using @tf.autograph.experimental.do_not_convert. Original error: lineno is out of bounds\n",
            "To silence this warning, decorate the function with @tf.autograph.experimental.do_not_convert\n",
            "50/50 [==============================] - 57s 1s/step - loss: 0.8169 - accuracy: 0.5624 - val_loss: 0.5007 - val_accuracy: 0.9038 - lr: 0.0010\n",
            "\n",
            "Epoch 2: LearningRateScheduler setting learning rate to 0.0010000000474974513.\n",
            "Epoch 2/100\n",
            "50/50 [==============================] - 58s 1s/step - loss: 0.6502 - accuracy: 0.6456 - val_loss: 0.4109 - val_accuracy: 0.8800 - lr: 0.0010\n",
            "\n",
            "Epoch 3: LearningRateScheduler setting learning rate to 0.0010000000474974513.\n",
            "Epoch 3/100\n",
            "50/50 [==============================] - 49s 981ms/step - loss: 0.6618 - accuracy: 0.6469 - val_loss: 0.6237 - val_accuracy: 0.5550 - lr: 0.0010\n",
            "\n",
            "Epoch 4: LearningRateScheduler setting learning rate to 0.0010000000474974513.\n",
            "Epoch 4/100\n",
            "50/50 [==============================] - 56s 1s/step - loss: 0.5812 - accuracy: 0.7113 - val_loss: 0.6208 - val_accuracy: 0.6862 - lr: 0.0010\n",
            "\n",
            "Epoch 5: LearningRateScheduler setting learning rate to 0.0010000000474974513.\n",
            "Epoch 5/100\n",
            "50/50 [==============================] - 51s 1s/step - loss: 0.5598 - accuracy: 0.7462 - val_loss: 0.2824 - val_accuracy: 0.9388 - lr: 0.0010\n",
            "\n",
            "Epoch 6: LearningRateScheduler setting learning rate to 0.0009048374486155808.\n",
            "Epoch 6/100\n",
            "50/50 [==============================] - 49s 986ms/step - loss: 0.4683 - accuracy: 0.8062 - val_loss: 0.3207 - val_accuracy: 0.8863 - lr: 9.0484e-04\n",
            "\n",
            "Epoch 7: LearningRateScheduler setting learning rate to 0.0008187307976186275.\n",
            "Epoch 7/100\n",
            "50/50 [==============================] - 49s 979ms/step - loss: 0.4290 - accuracy: 0.8250 - val_loss: 0.4664 - val_accuracy: 0.8450 - lr: 8.1873e-04\n",
            "\n",
            "Epoch 8: LearningRateScheduler setting learning rate to 0.0007408182718791068.\n",
            "Epoch 8/100\n",
            "50/50 [==============================] - 58s 1s/step - loss: 0.4130 - accuracy: 0.8386 - val_loss: 0.3040 - val_accuracy: 0.8975 - lr: 7.4082e-04\n",
            "\n",
            "Epoch 9: LearningRateScheduler setting learning rate to 0.0006703201215714216.\n",
            "Epoch 9/100\n",
            "50/50 [==============================] - 56s 1s/step - loss: 0.3932 - accuracy: 0.8338 - val_loss: 0.4333 - val_accuracy: 0.8275 - lr: 6.7032e-04\n",
            "\n",
            "Epoch 10: LearningRateScheduler setting learning rate to 0.0006065307534299791.\n",
            "Epoch 10/100\n",
            "50/50 [==============================] - 56s 1s/step - loss: 0.3833 - accuracy: 0.8373 - val_loss: 0.2813 - val_accuracy: 0.8950 - lr: 6.0653e-04\n",
            "\n",
            "Epoch 11: LearningRateScheduler setting learning rate to 0.0005488117458298802.\n",
            "Epoch 11/100\n",
            "50/50 [==============================] - 51s 1s/step - loss: 0.3569 - accuracy: 0.8525 - val_loss: 0.2853 - val_accuracy: 0.9200 - lr: 5.4881e-04\n",
            "\n",
            "Epoch 12: LearningRateScheduler setting learning rate to 0.0004965853877365589.\n",
            "Epoch 12/100\n",
            "50/50 [==============================] - 56s 1s/step - loss: 0.3869 - accuracy: 0.8338 - val_loss: 0.3051 - val_accuracy: 0.9175 - lr: 4.9659e-04\n",
            "\n",
            "Epoch 13: LearningRateScheduler setting learning rate to 0.0004493290325626731.\n",
            "Epoch 13/100\n",
            "50/50 [==============================] - 56s 1s/step - loss: 0.3989 - accuracy: 0.8350 - val_loss: 0.3323 - val_accuracy: 0.9100 - lr: 4.4933e-04\n",
            "\n",
            "Epoch 14: LearningRateScheduler setting learning rate to 0.0004065697139594704.\n",
            "Epoch 14/100\n",
            "50/50 [==============================] - 56s 1s/step - loss: 0.4028 - accuracy: 0.8350 - val_loss: 0.4298 - val_accuracy: 0.8462 - lr: 4.0657e-04\n",
            "\n",
            "Epoch 15: LearningRateScheduler setting learning rate to 0.000367879489203915.\n",
            "Epoch 15/100\n",
            "50/50 [==============================] - 49s 973ms/step - loss: 0.3756 - accuracy: 0.8462 - val_loss: 0.4143 - val_accuracy: 0.8687 - lr: 3.6788e-04\n",
            "\n",
            "Epoch 16: LearningRateScheduler setting learning rate to 0.0003328711318317801.\n",
            "Epoch 16/100\n",
            "50/50 [==============================] - 58s 1s/step - loss: 0.3912 - accuracy: 0.8462 - val_loss: 0.3030 - val_accuracy: 0.8625 - lr: 3.3287e-04\n",
            "\n",
            "Epoch 17: LearningRateScheduler setting learning rate to 0.000301194260828197.\n",
            "Epoch 17/100\n",
            "50/50 [==============================] - 57s 1s/step - loss: 0.3425 - accuracy: 0.8575 - val_loss: 0.3442 - val_accuracy: 0.8575 - lr: 3.0119e-04\n",
            "\n",
            "Epoch 18: LearningRateScheduler setting learning rate to 0.0002725318481680006.\n",
            "Epoch 18/100\n",
            "50/50 [==============================] - 56s 1s/step - loss: 0.3428 - accuracy: 0.8600 - val_loss: 0.2700 - val_accuracy: 0.8975 - lr: 2.7253e-04\n",
            "\n",
            "Epoch 19: LearningRateScheduler setting learning rate to 0.0002465970173943788.\n",
            "Epoch 19/100\n",
            "50/50 [==============================] - 58s 1s/step - loss: 0.3547 - accuracy: 0.8500 - val_loss: 0.3333 - val_accuracy: 0.8950 - lr: 2.4660e-04\n",
            "\n",
            "Epoch 20: LearningRateScheduler setting learning rate to 0.00022313020599540323.\n",
            "Epoch 20/100\n",
            "50/50 [==============================] - 56s 1s/step - loss: 0.3214 - accuracy: 0.8625 - val_loss: 0.3045 - val_accuracy: 0.8938 - lr: 2.2313e-04\n",
            "\n",
            "Epoch 21: LearningRateScheduler setting learning rate to 0.0002018965606112033.\n",
            "Epoch 21/100\n",
            "50/50 [==============================] - 56s 1s/step - loss: 0.3623 - accuracy: 0.8600 - val_loss: 0.2904 - val_accuracy: 0.8975 - lr: 2.0190e-04\n",
            "\n",
            "Epoch 22: LearningRateScheduler setting learning rate to 0.00018268356507178396.\n",
            "Epoch 22/100\n",
            "50/50 [==============================] - 56s 1s/step - loss: 0.3543 - accuracy: 0.8587 - val_loss: 0.3767 - val_accuracy: 0.8675 - lr: 1.8268e-04\n",
            "\n",
            "Epoch 23: LearningRateScheduler setting learning rate to 0.00016529893036931753.\n",
            "Epoch 23/100\n",
            "50/50 [==============================] - 56s 1s/step - loss: 0.3633 - accuracy: 0.8487 - val_loss: 0.3424 - val_accuracy: 0.8813 - lr: 1.6530e-04\n",
            "\n",
            "Epoch 24: LearningRateScheduler setting learning rate to 0.00014956865925341845.\n",
            "Epoch 24/100\n",
            "50/50 [==============================] - 56s 1s/step - loss: 0.3522 - accuracy: 0.8588 - val_loss: 0.3192 - val_accuracy: 0.8988 - lr: 1.4957e-04\n",
            "\n",
            "Epoch 25: LearningRateScheduler setting learning rate to 0.000135335314553231.\n",
            "Epoch 25/100\n",
            "50/50 [==============================] - 56s 1s/step - loss: 0.3510 - accuracy: 0.8462 - val_loss: 0.3087 - val_accuracy: 0.9038 - lr: 1.3534e-04\n",
            "\n",
            "Epoch 26: LearningRateScheduler setting learning rate to 0.00012245646212249994.\n",
            "Epoch 26/100\n",
            "50/50 [==============================] - 50s 1s/step - loss: 0.3478 - accuracy: 0.8613 - val_loss: 0.3051 - val_accuracy: 0.9075 - lr: 1.2246e-04\n",
            "\n",
            "Epoch 27: LearningRateScheduler setting learning rate to 0.00011080319382017478.\n",
            "Epoch 27/100\n",
            "50/50 [==============================] - 56s 1s/step - loss: 0.3504 - accuracy: 0.8612 - val_loss: 0.3037 - val_accuracy: 0.9050 - lr: 1.1080e-04\n",
            "\n",
            "Epoch 28: LearningRateScheduler setting learning rate to 0.00010025887604570016.\n",
            "Epoch 28/100\n",
            "50/50 [==============================] - 56s 1s/step - loss: 0.3577 - accuracy: 0.8675 - val_loss: 0.2902 - val_accuracy: 0.9087 - lr: 1.0026e-04\n",
            "\n",
            "Epoch 29: LearningRateScheduler setting learning rate to 9.071798558579758e-05.\n",
            "Epoch 29/100\n",
            "50/50 [==============================] - 56s 1s/step - loss: 0.3548 - accuracy: 0.8512 - val_loss: 0.2897 - val_accuracy: 0.9075 - lr: 9.0718e-05\n",
            "\n",
            "Epoch 30: LearningRateScheduler setting learning rate to 8.208502549678087e-05.\n",
            "Epoch 30/100\n",
            "50/50 [==============================] - 56s 1s/step - loss: 0.3654 - accuracy: 0.8537 - val_loss: 0.2724 - val_accuracy: 0.9137 - lr: 8.2085e-05\n",
            "\n",
            "Epoch 31: LearningRateScheduler setting learning rate to 7.427360105793923e-05.\n",
            "Epoch 31/100\n",
            "50/50 [==============================] - 58s 1s/step - loss: 0.3339 - accuracy: 0.8725 - val_loss: 0.3065 - val_accuracy: 0.8988 - lr: 7.4274e-05\n",
            "\n",
            "Epoch 32: LearningRateScheduler setting learning rate to 6.720553210470825e-05.\n",
            "Epoch 32/100\n",
            "50/50 [==============================] - 56s 1s/step - loss: 0.3498 - accuracy: 0.8637 - val_loss: 0.3100 - val_accuracy: 0.8963 - lr: 6.7206e-05\n",
            "\n",
            "Epoch 33: LearningRateScheduler setting learning rate to 6.081008177716285e-05.\n",
            "Epoch 33/100\n",
            "50/50 [==============================] - 56s 1s/step - loss: 0.3181 - accuracy: 0.8750 - val_loss: 0.2944 - val_accuracy: 0.9062 - lr: 6.0810e-05\n",
            "\n",
            "Epoch 34: LearningRateScheduler setting learning rate to 5.502323983819224e-05.\n",
            "Epoch 34/100\n",
            "50/50 [==============================] - 58s 1s/step - loss: 0.3482 - accuracy: 0.8575 - val_loss: 0.2952 - val_accuracy: 0.9050 - lr: 5.5023e-05\n",
            "\n",
            "Epoch 35: LearningRateScheduler setting learning rate to 4.9787086027208716e-05.\n",
            "Epoch 35/100\n",
            "50/50 [==============================] - 56s 1s/step - loss: 0.3177 - accuracy: 0.8763 - val_loss: 0.2783 - val_accuracy: 0.9112 - lr: 4.9787e-05\n",
            "\n",
            "Epoch 36: LearningRateScheduler setting learning rate to 4.504921889747493e-05.\n",
            "Epoch 36/100\n",
            "50/50 [==============================] - 49s 978ms/step - loss: 0.3494 - accuracy: 0.8600 - val_loss: 0.2900 - val_accuracy: 0.9013 - lr: 4.5049e-05\n",
            "\n",
            "Epoch 37: LearningRateScheduler setting learning rate to 4.076222103321925e-05.\n",
            "Epoch 37/100\n",
            "50/50 [==============================] - 58s 1s/step - loss: 0.3119 - accuracy: 0.8763 - val_loss: 0.2959 - val_accuracy: 0.9025 - lr: 4.0762e-05\n",
            "\n",
            "Epoch 38: LearningRateScheduler setting learning rate to 3.6883182474412024e-05.\n",
            "Epoch 38/100\n",
            "50/50 [==============================] - 49s 988ms/step - loss: 0.2943 - accuracy: 0.8827 - val_loss: 0.2778 - val_accuracy: 0.9137 - lr: 3.6883e-05\n",
            "\n",
            "Epoch 39: LearningRateScheduler setting learning rate to 3.337328234920278e-05.\n",
            "Epoch 39/100\n",
            "50/50 [==============================] - 49s 979ms/step - loss: 0.3439 - accuracy: 0.8638 - val_loss: 0.3081 - val_accuracy: 0.8875 - lr: 3.3373e-05\n",
            "\n",
            "Epoch 40: LearningRateScheduler setting learning rate to 3.0197394153219648e-05.\n",
            "Epoch 40/100\n",
            "50/50 [==============================] - 51s 1s/step - loss: 0.3413 - accuracy: 0.8600 - val_loss: 0.2934 - val_accuracy: 0.9000 - lr: 3.0197e-05\n",
            "\n",
            "Epoch 41: LearningRateScheduler setting learning rate to 2.732373286562506e-05.\n",
            "Epoch 41/100\n",
            "50/50 [==============================] - 49s 983ms/step - loss: 0.3306 - accuracy: 0.8650 - val_loss: 0.2984 - val_accuracy: 0.9038 - lr: 2.7324e-05\n",
            "\n",
            "Epoch 42: LearningRateScheduler setting learning rate to 2.4723536625970155e-05.\n",
            "Epoch 42/100\n",
            "50/50 [==============================] - 57s 1s/step - loss: 0.2964 - accuracy: 0.8875 - val_loss: 0.2775 - val_accuracy: 0.9075 - lr: 2.4724e-05\n",
            "\n",
            "Epoch 43: LearningRateScheduler setting learning rate to 2.23707811528584e-05.\n",
            "Epoch 43/100\n",
            "50/50 [==============================] - 57s 1s/step - loss: 0.3150 - accuracy: 0.8813 - val_loss: 0.3014 - val_accuracy: 0.9013 - lr: 2.2371e-05\n",
            "\n",
            "Epoch 44: LearningRateScheduler setting learning rate to 2.024191962846089e-05.\n",
            "Epoch 44/100\n",
            "50/50 [==============================] - 57s 1s/step - loss: 0.3519 - accuracy: 0.8525 - val_loss: 0.2778 - val_accuracy: 0.9137 - lr: 2.0242e-05\n",
            "\n",
            "Epoch 45: LearningRateScheduler setting learning rate to 1.83156462298939e-05.\n",
            "Epoch 45/100\n",
            "50/50 [==============================] - 58s 1s/step - loss: 0.3238 - accuracy: 0.8750 - val_loss: 0.3063 - val_accuracy: 0.8963 - lr: 1.8316e-05\n",
            "\n",
            "Epoch 46: LearningRateScheduler setting learning rate to 1.6572681488469243e-05.\n",
            "Epoch 46/100\n",
            "50/50 [==============================] - 49s 985ms/step - loss: 0.3406 - accuracy: 0.8562 - val_loss: 0.3039 - val_accuracy: 0.8938 - lr: 1.6573e-05\n",
            "\n",
            "Epoch 47: LearningRateScheduler setting learning rate to 1.4995582205301616e-05.\n",
            "Epoch 47/100\n",
            "50/50 [==============================] - 49s 980ms/step - loss: 0.3298 - accuracy: 0.8662 - val_loss: 0.2875 - val_accuracy: 0.9000 - lr: 1.4996e-05\n",
            "\n",
            "Epoch 48: LearningRateScheduler setting learning rate to 1.3568564099841751e-05.\n",
            "Epoch 48/100\n",
            "50/50 [==============================] - 58s 1s/step - loss: 0.3641 - accuracy: 0.8436 - val_loss: 0.2948 - val_accuracy: 0.9013 - lr: 1.3569e-05\n",
            "\n",
            "Epoch 49: LearningRateScheduler setting learning rate to 1.2277344467293005e-05.\n",
            "Epoch 49/100\n",
            "50/50 [==============================] - 57s 1s/step - loss: 0.3353 - accuracy: 0.8750 - val_loss: 0.2916 - val_accuracy: 0.9013 - lr: 1.2277e-05\n",
            "\n",
            "Epoch 50: LearningRateScheduler setting learning rate to 1.110900120693259e-05.\n",
            "Epoch 50/100\n",
            "50/50 [==============================] - 49s 982ms/step - loss: 0.3188 - accuracy: 0.8689 - val_loss: 0.2867 - val_accuracy: 0.9100 - lr: 1.1109e-05\n",
            "\n",
            "Epoch 51: LearningRateScheduler setting learning rate to 1.0051840035885107e-05.\n",
            "Epoch 51/100\n",
            "50/50 [==============================] - 57s 1s/step - loss: 0.3255 - accuracy: 0.8587 - val_loss: 0.2835 - val_accuracy: 0.9125 - lr: 1.0052e-05\n",
            "\n",
            "Epoch 52: LearningRateScheduler setting learning rate to 9.095280802284833e-06.\n",
            "Epoch 52/100\n",
            "50/50 [==============================] - 49s 984ms/step - loss: 0.3319 - accuracy: 0.8750 - val_loss: 0.2781 - val_accuracy: 0.9125 - lr: 9.0953e-06\n",
            "\n",
            "Epoch 53: LearningRateScheduler setting learning rate to 8.229750164900906e-06.\n",
            "Epoch 53/100\n",
            "50/50 [==============================] - 57s 1s/step - loss: 0.3323 - accuracy: 0.8737 - val_loss: 0.2809 - val_accuracy: 0.9075 - lr: 8.2298e-06\n",
            "\n",
            "Epoch 54: LearningRateScheduler setting learning rate to 7.4465860961936414e-06.\n",
            "Epoch 54/100\n",
            "50/50 [==============================] - 57s 1s/step - loss: 0.3457 - accuracy: 0.8550 - val_loss: 0.2856 - val_accuracy: 0.9087 - lr: 7.4466e-06\n",
            "\n",
            "Epoch 55: LearningRateScheduler setting learning rate to 6.737949661328457e-06.\n",
            "Epoch 55/100\n",
            "50/50 [==============================] - 57s 1s/step - loss: 0.3008 - accuracy: 0.8963 - val_loss: 0.2769 - val_accuracy: 0.9100 - lr: 6.7379e-06\n",
            "\n",
            "Epoch 56: LearningRateScheduler setting learning rate to 6.09674907536828e-06.\n",
            "Epoch 56/100\n",
            "50/50 [==============================] - 58s 1s/step - loss: 0.3306 - accuracy: 0.8575 - val_loss: 0.2891 - val_accuracy: 0.9062 - lr: 6.0967e-06\n",
            "\n",
            "Epoch 57: LearningRateScheduler setting learning rate to 5.5165669436973985e-06.\n",
            "Epoch 57/100\n",
            "50/50 [==============================] - 49s 983ms/step - loss: 0.3348 - accuracy: 0.8662 - val_loss: 0.2932 - val_accuracy: 0.9038 - lr: 5.5166e-06\n",
            "\n",
            "Epoch 58: LearningRateScheduler setting learning rate to 4.991596142644994e-06.\n",
            "Epoch 58/100\n",
            "50/50 [==============================] - 49s 981ms/step - loss: 0.3197 - accuracy: 0.8788 - val_loss: 0.2905 - val_accuracy: 0.9050 - lr: 4.9916e-06\n",
            "\n",
            "Epoch 59: LearningRateScheduler setting learning rate to 4.5165829760662746e-06.\n",
            "Epoch 59/100\n",
            "50/50 [==============================] - 49s 979ms/step - loss: 0.3173 - accuracy: 0.8789 - val_loss: 0.2995 - val_accuracy: 0.9000 - lr: 4.5166e-06\n",
            "\n",
            "Epoch 60: LearningRateScheduler setting learning rate to 4.086773515155073e-06.\n",
            "Epoch 60/100\n",
            "50/50 [==============================] - 49s 986ms/step - loss: 0.3285 - accuracy: 0.8650 - val_loss: 0.2971 - val_accuracy: 0.9075 - lr: 4.0868e-06\n",
            "\n",
            "Epoch 61: LearningRateScheduler setting learning rate to 3.6978656225983286e-06.\n",
            "Epoch 61/100\n",
            "50/50 [==============================] - 57s 1s/step - loss: 0.3399 - accuracy: 0.8562 - val_loss: 0.2976 - val_accuracy: 0.9050 - lr: 3.6979e-06\n",
            "\n",
            "Epoch 62: LearningRateScheduler setting learning rate to 3.3459671158198034e-06.\n",
            "Epoch 62/100\n",
            "50/50 [==============================] - 50s 1s/step - loss: 0.3357 - accuracy: 0.8651 - val_loss: 0.3000 - val_accuracy: 0.8963 - lr: 3.3460e-06\n",
            "\n",
            "Epoch 63: LearningRateScheduler setting learning rate to 3.0275562039605575e-06.\n",
            "Epoch 63/100\n",
            "50/50 [==============================] - 57s 1s/step - loss: 0.2972 - accuracy: 0.8852 - val_loss: 0.2916 - val_accuracy: 0.9025 - lr: 3.0276e-06\n",
            "\n",
            "Epoch 64: LearningRateScheduler setting learning rate to 2.739446244959254e-06.\n",
            "Epoch 64/100\n",
            "50/50 [==============================] - 57s 1s/step - loss: 0.2909 - accuracy: 0.8850 - val_loss: 0.2856 - val_accuracy: 0.9062 - lr: 2.7394e-06\n",
            "\n",
            "Epoch 65: LearningRateScheduler setting learning rate to 2.478753458490246e-06.\n",
            "Epoch 65/100\n",
            "50/50 [==============================] - 56s 1s/step - loss: 0.3274 - accuracy: 0.8700 - val_loss: 0.2875 - val_accuracy: 0.8988 - lr: 2.4788e-06\n",
            "\n",
            "Epoch 66: LearningRateScheduler setting learning rate to 2.2428689590014983e-06.\n",
            "Epoch 66/100\n",
            "50/50 [==============================] - 56s 1s/step - loss: 0.3131 - accuracy: 0.8788 - val_loss: 0.2886 - val_accuracy: 0.9038 - lr: 2.2429e-06\n",
            "\n",
            "Epoch 67: LearningRateScheduler setting learning rate to 2.0294316982472083e-06.\n",
            "Epoch 67/100\n",
            "50/50 [==============================] - 49s 978ms/step - loss: 0.3208 - accuracy: 0.8712 - val_loss: 0.2909 - val_accuracy: 0.9062 - lr: 2.0294e-06\n",
            "\n",
            "Epoch 68: LearningRateScheduler setting learning rate to 1.8363057279202621e-06.\n",
            "Epoch 68/100\n",
            "50/50 [==============================] - 56s 1s/step - loss: 0.3101 - accuracy: 0.8637 - val_loss: 0.2914 - val_accuracy: 0.9100 - lr: 1.8363e-06\n",
            "\n",
            "Epoch 69: LearningRateScheduler setting learning rate to 1.661558144405717e-06.\n",
            "Epoch 69/100\n",
            "50/50 [==============================] - 56s 1s/step - loss: 0.3437 - accuracy: 0.8637 - val_loss: 0.2869 - val_accuracy: 0.9038 - lr: 1.6616e-06\n",
            "\n",
            "Epoch 70: LearningRateScheduler setting learning rate to 1.5034399893920636e-06.\n",
            "Epoch 70/100\n",
            "50/50 [==============================] - 56s 1s/step - loss: 0.3018 - accuracy: 0.8813 - val_loss: 0.2928 - val_accuracy: 0.9013 - lr: 1.5034e-06\n",
            "\n",
            "Epoch 71: LearningRateScheduler setting learning rate to 1.360368742098217e-06.\n",
            "Epoch 71/100\n",
            "50/50 [==============================] - 56s 1s/step - loss: 0.2984 - accuracy: 0.8775 - val_loss: 0.2915 - val_accuracy: 0.9025 - lr: 1.3604e-06\n",
            "\n",
            "Epoch 72: LearningRateScheduler setting learning rate to 1.2309125168030732e-06.\n",
            "Epoch 72/100\n",
            "50/50 [==============================] - 56s 1s/step - loss: 0.3448 - accuracy: 0.8500 - val_loss: 0.2814 - val_accuracy: 0.9087 - lr: 1.2309e-06\n",
            "\n",
            "Epoch 73: LearningRateScheduler setting learning rate to 1.113775738303957e-06.\n",
            "Epoch 73/100\n",
            "50/50 [==============================] - 56s 1s/step - loss: 0.2984 - accuracy: 0.8875 - val_loss: 0.2794 - val_accuracy: 0.9062 - lr: 1.1138e-06\n",
            "\n",
            "Epoch 74: LearningRateScheduler setting learning rate to 1.0077859542434453e-06.\n",
            "Epoch 74/100\n",
            "50/50 [==============================] - 58s 1s/step - loss: 0.3409 - accuracy: 0.8600 - val_loss: 0.2916 - val_accuracy: 0.9075 - lr: 1.0078e-06\n",
            "\n",
            "Epoch 75: LearningRateScheduler setting learning rate to 9.118824664255953e-07.\n",
            "Epoch 75/100\n",
            "50/50 [==============================] - 57s 1s/step - loss: 0.3698 - accuracy: 0.8500 - val_loss: 0.2917 - val_accuracy: 0.9050 - lr: 9.1188e-07\n",
            "\n",
            "Epoch 76: LearningRateScheduler setting learning rate to 8.251053600361047e-07.\n",
            "Epoch 76/100\n",
            "50/50 [==============================] - 57s 1s/step - loss: 0.3336 - accuracy: 0.8612 - val_loss: 0.2947 - val_accuracy: 0.9075 - lr: 8.2511e-07\n",
            "\n",
            "Epoch 77: LearningRateScheduler setting learning rate to 7.465862381650368e-07.\n",
            "Epoch 77/100\n",
            "50/50 [==============================] - 59s 1s/step - loss: 0.3168 - accuracy: 0.8662 - val_loss: 0.2843 - val_accuracy: 0.9000 - lr: 7.4659e-07\n",
            "\n",
            "Epoch 78: LearningRateScheduler setting learning rate to 6.755391837032221e-07.\n",
            "Epoch 78/100\n",
            "50/50 [==============================] - 57s 1s/step - loss: 0.3225 - accuracy: 0.8662 - val_loss: 0.2820 - val_accuracy: 0.9038 - lr: 6.7554e-07\n",
            "\n",
            "Epoch 79: LearningRateScheduler setting learning rate to 6.112531423241307e-07.\n",
            "Epoch 79/100\n",
            "50/50 [==============================] - 49s 984ms/step - loss: 0.3426 - accuracy: 0.8625 - val_loss: 0.2851 - val_accuracy: 0.9075 - lr: 6.1125e-07\n",
            "\n",
            "Epoch 80: LearningRateScheduler setting learning rate to 5.530847033696773e-07.\n",
            "Epoch 80/100\n",
            "50/50 [==============================] - 49s 984ms/step - loss: 0.3191 - accuracy: 0.8625 - val_loss: 0.2872 - val_accuracy: 0.9050 - lr: 5.5308e-07\n",
            "\n",
            "Epoch 81: LearningRateScheduler setting learning rate to 5.004517333873082e-07.\n",
            "Epoch 81/100\n",
            "50/50 [==============================] - 57s 1s/step - loss: 0.3379 - accuracy: 0.8625 - val_loss: 0.2905 - val_accuracy: 0.9013 - lr: 5.0045e-07\n",
            "\n",
            "Epoch 82: LearningRateScheduler setting learning rate to 4.5282746441444033e-07.\n",
            "Epoch 82/100\n",
            "50/50 [==============================] - 49s 989ms/step - loss: 0.3366 - accuracy: 0.8625 - val_loss: 0.2890 - val_accuracy: 0.9075 - lr: 4.5283e-07\n",
            "\n",
            "Epoch 83: LearningRateScheduler setting learning rate to 4.097352359622164e-07.\n",
            "Epoch 83/100\n",
            "50/50 [==============================] - 58s 1s/step - loss: 0.3189 - accuracy: 0.8712 - val_loss: 0.2969 - val_accuracy: 0.9038 - lr: 4.0974e-07\n",
            "\n",
            "Epoch 84: LearningRateScheduler setting learning rate to 3.7074377701173944e-07.\n",
            "Epoch 84/100\n",
            "50/50 [==============================] - 49s 980ms/step - loss: 0.3575 - accuracy: 0.8525 - val_loss: 0.2895 - val_accuracy: 0.9038 - lr: 3.7074e-07\n",
            "\n",
            "Epoch 85: LearningRateScheduler setting learning rate to 3.3546285749253e-07.\n",
            "Epoch 85/100\n",
            "50/50 [==============================] - 57s 1s/step - loss: 0.3290 - accuracy: 0.8675 - val_loss: 0.2924 - val_accuracy: 0.9038 - lr: 3.3546e-07\n",
            "\n",
            "Epoch 86: LearningRateScheduler setting learning rate to 3.0353933766491537e-07.\n",
            "Epoch 86/100\n",
            "50/50 [==============================] - 58s 1s/step - loss: 0.3158 - accuracy: 0.8750 - val_loss: 0.2834 - val_accuracy: 0.9038 - lr: 3.0354e-07\n",
            "\n",
            "Epoch 87: LearningRateScheduler setting learning rate to 2.7465375751489773e-07.\n",
            "Epoch 87/100\n",
            "50/50 [==============================] - 56s 1s/step - loss: 0.3149 - accuracy: 0.8800 - val_loss: 0.2891 - val_accuracy: 0.9087 - lr: 2.7465e-07\n",
            "\n",
            "Epoch 88: LearningRateScheduler setting learning rate to 2.4851701141415106e-07.\n",
            "Epoch 88/100\n",
            "50/50 [==============================] - 57s 1s/step - loss: 0.3241 - accuracy: 0.8637 - val_loss: 0.2946 - val_accuracy: 0.9013 - lr: 2.4852e-07\n",
            "\n",
            "Epoch 89: LearningRateScheduler setting learning rate to 2.2486749173822318e-07.\n",
            "Epoch 89/100\n",
            "50/50 [==============================] - 49s 982ms/step - loss: 0.3343 - accuracy: 0.8575 - val_loss: 0.2897 - val_accuracy: 0.9100 - lr: 2.2487e-07\n",
            "\n",
            "Epoch 90: LearningRateScheduler setting learning rate to 2.0346851670183241e-07.\n",
            "Epoch 90/100\n",
            "50/50 [==============================] - 49s 977ms/step - loss: 0.3220 - accuracy: 0.8625 - val_loss: 0.2963 - val_accuracy: 0.9013 - lr: 2.0347e-07\n",
            "\n",
            "Epoch 91: LearningRateScheduler setting learning rate to 1.8410592872442066e-07.\n",
            "Epoch 91/100\n",
            "50/50 [==============================] - 58s 1s/step - loss: 0.2789 - accuracy: 0.8950 - val_loss: 0.2870 - val_accuracy: 0.9062 - lr: 1.8411e-07\n",
            "\n",
            "Epoch 92: LearningRateScheduler setting learning rate to 1.6658593438023672e-07.\n",
            "Epoch 92/100\n",
            "50/50 [==============================] - 49s 976ms/step - loss: 0.3389 - accuracy: 0.8537 - val_loss: 0.2950 - val_accuracy: 0.9025 - lr: 1.6659e-07\n",
            "\n",
            "Epoch 93: LearningRateScheduler setting learning rate to 1.507331859329497e-07.\n",
            "Epoch 93/100\n",
            "50/50 [==============================] - 49s 976ms/step - loss: 0.3287 - accuracy: 0.8651 - val_loss: 0.2890 - val_accuracy: 0.8988 - lr: 1.5073e-07\n",
            "\n",
            "Epoch 94: LearningRateScheduler setting learning rate to 1.363890334005191e-07.\n",
            "Epoch 94/100\n",
            "50/50 [==============================] - 51s 1s/step - loss: 0.3308 - accuracy: 0.8612 - val_loss: 0.2899 - val_accuracy: 0.9087 - lr: 1.3639e-07\n",
            "\n",
            "Epoch 95: LearningRateScheduler setting learning rate to 1.2340990451775724e-07.\n",
            "Epoch 95/100\n",
            "50/50 [==============================] - 56s 1s/step - loss: 0.3582 - accuracy: 0.8550 - val_loss: 0.2926 - val_accuracy: 0.9038 - lr: 1.2341e-07\n",
            "\n",
            "Epoch 96: LearningRateScheduler setting learning rate to 1.1166589786171244e-07.\n",
            "Epoch 96/100\n",
            "50/50 [==============================] - 49s 978ms/step - loss: 0.3132 - accuracy: 0.8863 - val_loss: 0.2888 - val_accuracy: 0.9062 - lr: 1.1167e-07\n",
            "\n",
            "Epoch 97: LearningRateScheduler setting learning rate to 1.0103948255846262e-07.\n",
            "Epoch 97/100\n",
            "50/50 [==============================] - 50s 1s/step - loss: 0.3508 - accuracy: 0.8625 - val_loss: 0.2970 - val_accuracy: 0.9062 - lr: 1.0104e-07\n",
            "\n",
            "Epoch 98: LearningRateScheduler setting learning rate to 9.142430457131923e-08.\n",
            "Epoch 98/100\n",
            "50/50 [==============================] - 56s 1s/step - loss: 0.3163 - accuracy: 0.8737 - val_loss: 0.2894 - val_accuracy: 0.9025 - lr: 9.1424e-08\n",
            "\n",
            "Epoch 99: LearningRateScheduler setting learning rate to 8.272413509757826e-08.\n",
            "Epoch 99/100\n",
            "50/50 [==============================] - 56s 1s/step - loss: 0.3076 - accuracy: 0.8825 - val_loss: 0.2892 - val_accuracy: 0.9050 - lr: 8.2724e-08\n",
            "\n",
            "Epoch 100: LearningRateScheduler setting learning rate to 7.485189712497231e-08.\n",
            "Epoch 100/100\n",
            "50/50 [==============================] - 50s 1s/step - loss: 0.3447 - accuracy: 0.8575 - val_loss: 0.2937 - val_accuracy: 0.9038 - lr: 7.4852e-08\n"
          ]
        }
      ]
    },
    {
      "cell_type": "markdown",
      "source": [
        "# Accuracy and Plot"
      ],
      "metadata": {
        "id": "wUhM-srPJeL-"
      }
    },
    {
      "cell_type": "code",
      "source": [
        "import numpy as np\n",
        "from google.colab import files\n",
        "from keras_preprocessing.image import load_img\n",
        "import matplotlib.pyplot as plt\n",
        "import matplotlib.image as mpimg\n",
        "import matplotlib.pyplot as plt\n",
        "import matplotlib.image as mpimg\n",
        "import keras.utils as image\n",
        "%matplotlib inline\n",
        "\n",
        "# Upload File ke google colabs\n",
        "uploaded = files.upload()\n",
        "\n",
        "# pengkondisian\n",
        "for file_upload in uploaded.keys():\n",
        "\n",
        "  path = file_upload\n",
        "  img = image.load_img(path, target_size=(150,150))\n",
        "  imgplot = plt.imshow(img)\n",
        "  x = image.img_to_array(img)\n",
        "  x = np.expand_dims(x, axis=0)\n",
        "\n",
        "  # Membuat numpy vstack array untuk hasil prediksi \n",
        "  images = np.vstack([x])\n",
        "  classes = Model.predict(images, batch_size=16)\n",
        "  \n",
        "  print(\"\\n\")\n",
        "  print('Prediction Result : ',classes[0],'\\n')\n",
        "\n",
        "  if classes[0][0] == 1:\n",
        "    print('Image Category : Cloudy')\n",
        "  elif classes[0][1] == 1:\n",
        "    print('Image Category : Desert')\n",
        "  elif classes[1][1] == 1:\n",
        "    print('Image Category : Green Area')\n",
        "  else:\n",
        "    print('Image Category : Water')"
      ],
      "metadata": {
        "colab": {
          "base_uri": "https://localhost:8080/",
          "height": 560
        },
        "id": "yYEEAh_mX1M8",
        "outputId": "e8550b62-af17-43a2-f875-b91012f6ec4e"
      },
      "execution_count": 99,
      "outputs": [
        {
          "output_type": "display_data",
          "data": {
            "text/plain": [
              "<IPython.core.display.HTML object>"
            ],
            "text/html": [
              "\n",
              "     <input type=\"file\" id=\"files-4bab1f56-1475-412d-967f-472618867956\" name=\"files[]\" multiple disabled\n",
              "        style=\"border:none\" />\n",
              "     <output id=\"result-4bab1f56-1475-412d-967f-472618867956\">\n",
              "      Upload widget is only available when the cell has been executed in the\n",
              "      current browser session. Please rerun this cell to enable.\n",
              "      </output>\n",
              "      <script>// Copyright 2017 Google LLC\n",
              "//\n",
              "// Licensed under the Apache License, Version 2.0 (the \"License\");\n",
              "// you may not use this file except in compliance with the License.\n",
              "// You may obtain a copy of the License at\n",
              "//\n",
              "//      http://www.apache.org/licenses/LICENSE-2.0\n",
              "//\n",
              "// Unless required by applicable law or agreed to in writing, software\n",
              "// distributed under the License is distributed on an \"AS IS\" BASIS,\n",
              "// WITHOUT WARRANTIES OR CONDITIONS OF ANY KIND, either express or implied.\n",
              "// See the License for the specific language governing permissions and\n",
              "// limitations under the License.\n",
              "\n",
              "/**\n",
              " * @fileoverview Helpers for google.colab Python module.\n",
              " */\n",
              "(function(scope) {\n",
              "function span(text, styleAttributes = {}) {\n",
              "  const element = document.createElement('span');\n",
              "  element.textContent = text;\n",
              "  for (const key of Object.keys(styleAttributes)) {\n",
              "    element.style[key] = styleAttributes[key];\n",
              "  }\n",
              "  return element;\n",
              "}\n",
              "\n",
              "// Max number of bytes which will be uploaded at a time.\n",
              "const MAX_PAYLOAD_SIZE = 100 * 1024;\n",
              "\n",
              "function _uploadFiles(inputId, outputId) {\n",
              "  const steps = uploadFilesStep(inputId, outputId);\n",
              "  const outputElement = document.getElementById(outputId);\n",
              "  // Cache steps on the outputElement to make it available for the next call\n",
              "  // to uploadFilesContinue from Python.\n",
              "  outputElement.steps = steps;\n",
              "\n",
              "  return _uploadFilesContinue(outputId);\n",
              "}\n",
              "\n",
              "// This is roughly an async generator (not supported in the browser yet),\n",
              "// where there are multiple asynchronous steps and the Python side is going\n",
              "// to poll for completion of each step.\n",
              "// This uses a Promise to block the python side on completion of each step,\n",
              "// then passes the result of the previous step as the input to the next step.\n",
              "function _uploadFilesContinue(outputId) {\n",
              "  const outputElement = document.getElementById(outputId);\n",
              "  const steps = outputElement.steps;\n",
              "\n",
              "  const next = steps.next(outputElement.lastPromiseValue);\n",
              "  return Promise.resolve(next.value.promise).then((value) => {\n",
              "    // Cache the last promise value to make it available to the next\n",
              "    // step of the generator.\n",
              "    outputElement.lastPromiseValue = value;\n",
              "    return next.value.response;\n",
              "  });\n",
              "}\n",
              "\n",
              "/**\n",
              " * Generator function which is called between each async step of the upload\n",
              " * process.\n",
              " * @param {string} inputId Element ID of the input file picker element.\n",
              " * @param {string} outputId Element ID of the output display.\n",
              " * @return {!Iterable<!Object>} Iterable of next steps.\n",
              " */\n",
              "function* uploadFilesStep(inputId, outputId) {\n",
              "  const inputElement = document.getElementById(inputId);\n",
              "  inputElement.disabled = false;\n",
              "\n",
              "  const outputElement = document.getElementById(outputId);\n",
              "  outputElement.innerHTML = '';\n",
              "\n",
              "  const pickedPromise = new Promise((resolve) => {\n",
              "    inputElement.addEventListener('change', (e) => {\n",
              "      resolve(e.target.files);\n",
              "    });\n",
              "  });\n",
              "\n",
              "  const cancel = document.createElement('button');\n",
              "  inputElement.parentElement.appendChild(cancel);\n",
              "  cancel.textContent = 'Cancel upload';\n",
              "  const cancelPromise = new Promise((resolve) => {\n",
              "    cancel.onclick = () => {\n",
              "      resolve(null);\n",
              "    };\n",
              "  });\n",
              "\n",
              "  // Wait for the user to pick the files.\n",
              "  const files = yield {\n",
              "    promise: Promise.race([pickedPromise, cancelPromise]),\n",
              "    response: {\n",
              "      action: 'starting',\n",
              "    }\n",
              "  };\n",
              "\n",
              "  cancel.remove();\n",
              "\n",
              "  // Disable the input element since further picks are not allowed.\n",
              "  inputElement.disabled = true;\n",
              "\n",
              "  if (!files) {\n",
              "    return {\n",
              "      response: {\n",
              "        action: 'complete',\n",
              "      }\n",
              "    };\n",
              "  }\n",
              "\n",
              "  for (const file of files) {\n",
              "    const li = document.createElement('li');\n",
              "    li.append(span(file.name, {fontWeight: 'bold'}));\n",
              "    li.append(span(\n",
              "        `(${file.type || 'n/a'}) - ${file.size} bytes, ` +\n",
              "        `last modified: ${\n",
              "            file.lastModifiedDate ? file.lastModifiedDate.toLocaleDateString() :\n",
              "                                    'n/a'} - `));\n",
              "    const percent = span('0% done');\n",
              "    li.appendChild(percent);\n",
              "\n",
              "    outputElement.appendChild(li);\n",
              "\n",
              "    const fileDataPromise = new Promise((resolve) => {\n",
              "      const reader = new FileReader();\n",
              "      reader.onload = (e) => {\n",
              "        resolve(e.target.result);\n",
              "      };\n",
              "      reader.readAsArrayBuffer(file);\n",
              "    });\n",
              "    // Wait for the data to be ready.\n",
              "    let fileData = yield {\n",
              "      promise: fileDataPromise,\n",
              "      response: {\n",
              "        action: 'continue',\n",
              "      }\n",
              "    };\n",
              "\n",
              "    // Use a chunked sending to avoid message size limits. See b/62115660.\n",
              "    let position = 0;\n",
              "    do {\n",
              "      const length = Math.min(fileData.byteLength - position, MAX_PAYLOAD_SIZE);\n",
              "      const chunk = new Uint8Array(fileData, position, length);\n",
              "      position += length;\n",
              "\n",
              "      const base64 = btoa(String.fromCharCode.apply(null, chunk));\n",
              "      yield {\n",
              "        response: {\n",
              "          action: 'append',\n",
              "          file: file.name,\n",
              "          data: base64,\n",
              "        },\n",
              "      };\n",
              "\n",
              "      let percentDone = fileData.byteLength === 0 ?\n",
              "          100 :\n",
              "          Math.round((position / fileData.byteLength) * 100);\n",
              "      percent.textContent = `${percentDone}% done`;\n",
              "\n",
              "    } while (position < fileData.byteLength);\n",
              "  }\n",
              "\n",
              "  // All done.\n",
              "  yield {\n",
              "    response: {\n",
              "      action: 'complete',\n",
              "    }\n",
              "  };\n",
              "}\n",
              "\n",
              "scope.google = scope.google || {};\n",
              "scope.google.colab = scope.google.colab || {};\n",
              "scope.google.colab._files = {\n",
              "  _uploadFiles,\n",
              "  _uploadFilesContinue,\n",
              "};\n",
              "})(self);\n",
              "</script> "
            ]
          },
          "metadata": {}
        },
        {
          "output_type": "stream",
          "name": "stderr",
          "text": [
            "WARNING:tensorflow:AutoGraph could not transform <function Model.make_predict_function.<locals>.predict_function at 0x7fe82534c670> and will run it as-is.\n",
            "Cause: Unable to locate the source code of <function Model.make_predict_function.<locals>.predict_function at 0x7fe82534c670>. Note that functions defined in certain environments, like the interactive Python shell, do not expose their source code. If that is the case, you should define them in a .py source file. If you are certain the code is graph-compatible, wrap the call using @tf.autograph.experimental.do_not_convert. Original error: lineno is out of bounds\n",
            "To silence this warning, decorate the function with @tf.autograph.experimental.do_not_convert\n"
          ]
        },
        {
          "output_type": "stream",
          "name": "stdout",
          "text": [
            "Saving train_10021.jpeg to train_10021 (2).jpeg\n",
            "WARNING: AutoGraph could not transform <function Model.make_predict_function.<locals>.predict_function at 0x7fe82534c670> and will run it as-is.\n",
            "Cause: Unable to locate the source code of <function Model.make_predict_function.<locals>.predict_function at 0x7fe82534c670>. Note that functions defined in certain environments, like the interactive Python shell, do not expose their source code. If that is the case, you should define them in a .py source file. If you are certain the code is graph-compatible, wrap the call using @tf.autograph.experimental.do_not_convert. Original error: lineno is out of bounds\n",
            "To silence this warning, decorate the function with @tf.autograph.experimental.do_not_convert\n",
            "1/1 [==============================] - 0s 122ms/step\n",
            "\n",
            "\n",
            "Prediction Result :  [1. 0. 0. 0.] \n",
            "\n",
            "Image Category : Cloudy\n"
          ]
        },
        {
          "output_type": "display_data",
          "data": {
            "text/plain": [
              "<Figure size 432x288 with 1 Axes>"
            ],
            "image/png": "[encoded data removed]"
          },
          "metadata": {
            "needs_background": "light"
          }
        }
      ]
    },
    {
      "cell_type": "code",
      "source": [
        "# Mengambil Nilai Accuracy \n",
        "plt.plot(history.history['accuracy'])\n",
        "plt.plot(history.history['val_accuracy'])\n",
        "plt.title('Accuracy')\n",
        "plt.ylabel('accuracy')\n",
        "plt.xlabel('epoch')\n",
        "plt.legend(['train', 'val'], loc='upper left')\n",
        "plt.show()"
      ],
      "metadata": {
        "colab": {
          "base_uri": "https://localhost:8080/",
          "height": 295
        },
        "id": "Z00uYrURaCTS",
        "outputId": "8a90bbb3-f54c-47c1-fd02-9c1025619e62"
      },
      "execution_count": 100,
      "outputs": [
        {
          "output_type": "display_data",
          "data": {
            "text/plain": [
              "<Figure size 432x288 with 1 Axes>"
            ],
            "image/png": "[encoded data removed]"
          },
          "metadata": {
            "needs_background": "light"
          }
        }
      ]
    },
    {
      "cell_type": "code",
      "source": [
        "\n",
        "plt.plot(history.history['loss'])\n",
        "plt.plot(history.history['val_loss'])\n",
        "plt.title('Loss')\n",
        "plt.ylabel('loss')\n",
        "plt.xlabel('epoch')\n",
        "plt.legend(['train', 'val'], loc='upper left')\n",
        "plt.show()"
      ],
      "metadata": {
        "colab": {
          "base_uri": "https://localhost:8080/",
          "height": 295
        },
        "id": "uEUijGoKaEx4",
        "outputId": "95a85498-01b2-4343-d46f-ed6a874ef13b"
      },
      "execution_count": 101,
      "outputs": [
        {
          "output_type": "display_data",
          "data": {
            "text/plain": [
              "<Figure size 432x288 with 1 Axes>"
            ],
            "image/png": "[encoded data removed]"
          },
          "metadata": {
            "needs_background": "light"
          }
        }
      ]
    },
    {
      "cell_type": "markdown",
      "source": [
        "# Save to TF-Lite"
      ],
      "metadata": {
        "id": "uQcrq-CeJu6h"
      }
    },
    {
      "cell_type": "code",
      "source": [
        "# Convert Model.\n",
        "converter = tf.lite.TFLiteConverter.from_keras_model(Model)\n",
        "tflite_model = converter.convert()\n",
        "\n",
        "# Save the model.\n",
        "with open('RPS_model.tflite', 'wb') as f:\n",
        "  f.write(tflite_model)"
      ],
      "metadata": {
        "colab": {
          "base_uri": "https://localhost:8080/"
        },
        "id": "7Y5tJ4oKaQLT",
        "outputId": "9e782023-60cc-45da-8db6-83c6b86cedab"
      },
      "execution_count": 105,
      "outputs": [
        {
          "output_type": "stream",
          "name": "stderr",
          "text": [
            "WARNING:tensorflow:AutoGraph could not transform <function trace_model_call.<locals>._wrapped_model at 0x7fe81c9734c0> and will run it as-is.\n",
            "Cause: Unable to locate the source code of <function trace_model_call.<locals>._wrapped_model at 0x7fe81c9734c0>. Note that functions defined in certain environments, like the interactive Python shell, do not expose their source code. If that is the case, you should define them in a .py source file. If you are certain the code is graph-compatible, wrap the call using @tf.autograph.experimental.do_not_convert. Original error: could not get source code\n",
            "To silence this warning, decorate the function with @tf.autograph.experimental.do_not_convert\n"
          ]
        },
        {
          "output_type": "stream",
          "name": "stdout",
          "text": [
            "WARNING: AutoGraph could not transform <function trace_model_call.<locals>._wrapped_model at 0x7fe81c9734c0> and will run it as-is.\n",
            "Cause: Unable to locate the source code of <function trace_model_call.<locals>._wrapped_model at 0x7fe81c9734c0>. Note that functions defined in certain environments, like the interactive Python shell, do not expose their source code. If that is the case, you should define them in a .py source file. If you are certain the code is graph-compatible, wrap the call using @tf.autograph.experimental.do_not_convert. Original error: could not get source code\n",
            "To silence this warning, decorate the function with @tf.autograph.experimental.do_not_convert\n"
          ]
        },
        {
          "output_type": "stream",
          "name": "stderr",
          "text": [
            "WARNING:absl:Found untraced functions such as _jit_compiled_convolution_op, _jit_compiled_convolution_op, _jit_compiled_convolution_op while saving (showing 3 of 3). These functions will not be directly callable after loading.\n"
          ]
        }
      ]
    }
  ]
}